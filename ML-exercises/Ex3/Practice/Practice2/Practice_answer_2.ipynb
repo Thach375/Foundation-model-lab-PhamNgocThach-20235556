{
 "cells": [
  {
   "cell_type": "markdown",
   "id": "b621c6ec-e927-44fe-8288-12669bd6d8e6",
   "metadata": {},
   "source": [
    "# Bài tập thực hành 2 "
   ]
  },
  {
   "cell_type": "markdown",
   "id": "6a46fa48-faca-48c4-ad31-686ffeecb940",
   "metadata": {},
   "source": [
    "## Yêu cầu"
   ]
  },
  {
   "cell_type": "markdown",
   "id": "a2be44ff-6778-4b38-abec-9368486f2875",
   "metadata": {
    "tags": []
   },
   "source": [
    "Dự đoán doanh thu xe hơi Hyundai dòng Elantra trong năm 2013 và đầu 2014, dựa vào dữ liệu trước đó"
   ]
  },
  {
   "cell_type": "markdown",
   "id": "14969f49-9a04-4588-862c-6fadb2339d77",
   "metadata": {},
   "source": [
    "## Dữ liệu\n",
    "\n",
    "Dữ liệu được ghi trong file csv với các trường (Month, Year, ElantraSales, Unemployment, Queries, CPI_energy, CPI_all). Giá trị cần dự đoán sẽ là ElantraSales."
   ]
  },
  {
   "cell_type": "markdown",
   "id": "80abdf61-65fc-43ea-b5ee-f27164e9ee8c",
   "metadata": {},
   "source": [
    "## Đánh giá\n",
    "\n",
    "Đánh giá mô hình dựa trên \n",
    "* Độ đo tiêu chuẩn của ML: RMSE = $\\sqrt{\\text{avg}\\left(y^{\\left(n\\right)}-\\hat{y}^{\\left(n\\right)}\\right)^{2}}$\n",
    "* Độ đo của business requirements: Mean relative errors = $\\text{avg}\\left(\\dfrac{\\left|y^{\\left(n\\right)}-\\hat{y}^{\\left(n\\right)}\\right|}{y^{\\left(n\\right)}}\\right)\\times100\\%$"
   ]
  },
  {
   "cell_type": "markdown",
   "id": "706456a2-2bc8-4fd0-b036-2c7daa519744",
   "metadata": {},
   "source": [
    "# Đọc dữ liệu"
   ]
  },
  {
   "cell_type": "code",
   "execution_count": 42,
   "id": "fcf56fe2-d990-46d4-8069-b9e447a3c836",
   "metadata": {},
   "outputs": [],
   "source": [
    "import pandas as pd\n",
    "import numpy as np  # thư viện cho tính toán nói chung\n",
    "\n",
    "df = pd.read_csv('elantra.csv')"
   ]
  },
  {
   "cell_type": "code",
   "execution_count": 43,
   "id": "768df695-da52-4079-9b4f-c0127ba9467c",
   "metadata": {},
   "outputs": [
    {
     "data": {
      "text/html": [
       "<div>\n",
       "<style scoped>\n",
       "    .dataframe tbody tr th:only-of-type {\n",
       "        vertical-align: middle;\n",
       "    }\n",
       "\n",
       "    .dataframe tbody tr th {\n",
       "        vertical-align: top;\n",
       "    }\n",
       "\n",
       "    .dataframe thead th {\n",
       "        text-align: right;\n",
       "    }\n",
       "</style>\n",
       "<table border=\"1\" class=\"dataframe\">\n",
       "  <thead>\n",
       "    <tr style=\"text-align: right;\">\n",
       "      <th></th>\n",
       "      <th>Month</th>\n",
       "      <th>Year</th>\n",
       "      <th>ElantraSales</th>\n",
       "      <th>Unemployment</th>\n",
       "      <th>Queries</th>\n",
       "      <th>CPI_energy</th>\n",
       "      <th>CPI_all</th>\n",
       "    </tr>\n",
       "  </thead>\n",
       "  <tbody>\n",
       "    <tr>\n",
       "      <th>40</th>\n",
       "      <td>10</td>\n",
       "      <td>2012</td>\n",
       "      <td>14512</td>\n",
       "      <td>7.8</td>\n",
       "      <td>257</td>\n",
       "      <td>256.389</td>\n",
       "      <td>231.652</td>\n",
       "    </tr>\n",
       "    <tr>\n",
       "      <th>41</th>\n",
       "      <td>10</td>\n",
       "      <td>2013</td>\n",
       "      <td>14876</td>\n",
       "      <td>7.2</td>\n",
       "      <td>223</td>\n",
       "      <td>243.374</td>\n",
       "      <td>233.782</td>\n",
       "    </tr>\n",
       "    <tr>\n",
       "      <th>42</th>\n",
       "      <td>11</td>\n",
       "      <td>2010</td>\n",
       "      <td>8631</td>\n",
       "      <td>9.8</td>\n",
       "      <td>161</td>\n",
       "      <td>219.303</td>\n",
       "      <td>219.544</td>\n",
       "    </tr>\n",
       "    <tr>\n",
       "      <th>43</th>\n",
       "      <td>11</td>\n",
       "      <td>2011</td>\n",
       "      <td>12414</td>\n",
       "      <td>8.6</td>\n",
       "      <td>255</td>\n",
       "      <td>247.092</td>\n",
       "      <td>227.136</td>\n",
       "    </tr>\n",
       "    <tr>\n",
       "      <th>44</th>\n",
       "      <td>11</td>\n",
       "      <td>2012</td>\n",
       "      <td>15923</td>\n",
       "      <td>7.8</td>\n",
       "      <td>246</td>\n",
       "      <td>248.136</td>\n",
       "      <td>231.190</td>\n",
       "    </tr>\n",
       "    <tr>\n",
       "      <th>45</th>\n",
       "      <td>11</td>\n",
       "      <td>2013</td>\n",
       "      <td>16751</td>\n",
       "      <td>7.0</td>\n",
       "      <td>231</td>\n",
       "      <td>242.301</td>\n",
       "      <td>234.033</td>\n",
       "    </tr>\n",
       "    <tr>\n",
       "      <th>46</th>\n",
       "      <td>12</td>\n",
       "      <td>2010</td>\n",
       "      <td>13096</td>\n",
       "      <td>9.4</td>\n",
       "      <td>170</td>\n",
       "      <td>227.190</td>\n",
       "      <td>220.437</td>\n",
       "    </tr>\n",
       "    <tr>\n",
       "      <th>47</th>\n",
       "      <td>12</td>\n",
       "      <td>2011</td>\n",
       "      <td>13025</td>\n",
       "      <td>8.5</td>\n",
       "      <td>253</td>\n",
       "      <td>243.015</td>\n",
       "      <td>227.093</td>\n",
       "    </tr>\n",
       "    <tr>\n",
       "      <th>48</th>\n",
       "      <td>12</td>\n",
       "      <td>2012</td>\n",
       "      <td>19024</td>\n",
       "      <td>7.9</td>\n",
       "      <td>275</td>\n",
       "      <td>244.698</td>\n",
       "      <td>231.099</td>\n",
       "    </tr>\n",
       "    <tr>\n",
       "      <th>49</th>\n",
       "      <td>12</td>\n",
       "      <td>2013</td>\n",
       "      <td>21692</td>\n",
       "      <td>6.7</td>\n",
       "      <td>279</td>\n",
       "      <td>246.189</td>\n",
       "      <td>234.594</td>\n",
       "    </tr>\n",
       "  </tbody>\n",
       "</table>\n",
       "</div>"
      ],
      "text/plain": [
       "    Month  Year  ElantraSales  Unemployment  Queries  CPI_energy  CPI_all\n",
       "40     10  2012         14512           7.8      257     256.389  231.652\n",
       "41     10  2013         14876           7.2      223     243.374  233.782\n",
       "42     11  2010          8631           9.8      161     219.303  219.544\n",
       "43     11  2011         12414           8.6      255     247.092  227.136\n",
       "44     11  2012         15923           7.8      246     248.136  231.190\n",
       "45     11  2013         16751           7.0      231     242.301  234.033\n",
       "46     12  2010         13096           9.4      170     227.190  220.437\n",
       "47     12  2011         13025           8.5      253     243.015  227.093\n",
       "48     12  2012         19024           7.9      275     244.698  231.099\n",
       "49     12  2013         21692           6.7      279     246.189  234.594"
      ]
     },
     "execution_count": 43,
     "metadata": {},
     "output_type": "execute_result"
    }
   ],
   "source": [
    "df.tail(10)"
   ]
  },
  {
   "cell_type": "code",
   "execution_count": 44,
   "id": "a9a21a8e-e14a-431e-93a5-d625daedfd68",
   "metadata": {},
   "outputs": [
    {
     "data": {
      "text/html": [
       "<div>\n",
       "<style scoped>\n",
       "    .dataframe tbody tr th:only-of-type {\n",
       "        vertical-align: middle;\n",
       "    }\n",
       "\n",
       "    .dataframe tbody tr th {\n",
       "        vertical-align: top;\n",
       "    }\n",
       "\n",
       "    .dataframe thead th {\n",
       "        text-align: right;\n",
       "    }\n",
       "</style>\n",
       "<table border=\"1\" class=\"dataframe\">\n",
       "  <thead>\n",
       "    <tr style=\"text-align: right;\">\n",
       "      <th></th>\n",
       "      <th>Month</th>\n",
       "      <th>Year</th>\n",
       "      <th>ElantraSales</th>\n",
       "      <th>Unemployment</th>\n",
       "      <th>Queries</th>\n",
       "      <th>CPI_energy</th>\n",
       "      <th>CPI_all</th>\n",
       "    </tr>\n",
       "  </thead>\n",
       "  <tbody>\n",
       "    <tr>\n",
       "      <th>0</th>\n",
       "      <td>1</td>\n",
       "      <td>2010</td>\n",
       "      <td>7690</td>\n",
       "      <td>9.7</td>\n",
       "      <td>153</td>\n",
       "      <td>213.377</td>\n",
       "      <td>217.466</td>\n",
       "    </tr>\n",
       "    <tr>\n",
       "      <th>1</th>\n",
       "      <td>2</td>\n",
       "      <td>2010</td>\n",
       "      <td>7966</td>\n",
       "      <td>9.8</td>\n",
       "      <td>130</td>\n",
       "      <td>209.924</td>\n",
       "      <td>217.251</td>\n",
       "    </tr>\n",
       "    <tr>\n",
       "      <th>2</th>\n",
       "      <td>3</td>\n",
       "      <td>2010</td>\n",
       "      <td>8225</td>\n",
       "      <td>9.9</td>\n",
       "      <td>138</td>\n",
       "      <td>209.163</td>\n",
       "      <td>217.305</td>\n",
       "    </tr>\n",
       "    <tr>\n",
       "      <th>3</th>\n",
       "      <td>4</td>\n",
       "      <td>2010</td>\n",
       "      <td>9657</td>\n",
       "      <td>9.9</td>\n",
       "      <td>132</td>\n",
       "      <td>209.024</td>\n",
       "      <td>217.376</td>\n",
       "    </tr>\n",
       "    <tr>\n",
       "      <th>4</th>\n",
       "      <td>5</td>\n",
       "      <td>2010</td>\n",
       "      <td>9781</td>\n",
       "      <td>9.6</td>\n",
       "      <td>177</td>\n",
       "      <td>206.172</td>\n",
       "      <td>217.299</td>\n",
       "    </tr>\n",
       "    <tr>\n",
       "      <th>5</th>\n",
       "      <td>6</td>\n",
       "      <td>2010</td>\n",
       "      <td>14245</td>\n",
       "      <td>9.4</td>\n",
       "      <td>138</td>\n",
       "      <td>204.161</td>\n",
       "      <td>217.285</td>\n",
       "    </tr>\n",
       "    <tr>\n",
       "      <th>6</th>\n",
       "      <td>7</td>\n",
       "      <td>2010</td>\n",
       "      <td>18215</td>\n",
       "      <td>9.5</td>\n",
       "      <td>156</td>\n",
       "      <td>206.834</td>\n",
       "      <td>217.677</td>\n",
       "    </tr>\n",
       "    <tr>\n",
       "      <th>7</th>\n",
       "      <td>8</td>\n",
       "      <td>2010</td>\n",
       "      <td>15181</td>\n",
       "      <td>9.5</td>\n",
       "      <td>202</td>\n",
       "      <td>208.927</td>\n",
       "      <td>218.012</td>\n",
       "    </tr>\n",
       "    <tr>\n",
       "      <th>8</th>\n",
       "      <td>9</td>\n",
       "      <td>2010</td>\n",
       "      <td>10062</td>\n",
       "      <td>9.5</td>\n",
       "      <td>150</td>\n",
       "      <td>209.850</td>\n",
       "      <td>218.281</td>\n",
       "    </tr>\n",
       "    <tr>\n",
       "      <th>9</th>\n",
       "      <td>10</td>\n",
       "      <td>2010</td>\n",
       "      <td>9497</td>\n",
       "      <td>9.5</td>\n",
       "      <td>178</td>\n",
       "      <td>216.655</td>\n",
       "      <td>219.024</td>\n",
       "    </tr>\n",
       "  </tbody>\n",
       "</table>\n",
       "</div>"
      ],
      "text/plain": [
       "   Month  Year  ElantraSales  Unemployment  Queries  CPI_energy  CPI_all\n",
       "0      1  2010          7690           9.7      153     213.377  217.466\n",
       "1      2  2010          7966           9.8      130     209.924  217.251\n",
       "2      3  2010          8225           9.9      138     209.163  217.305\n",
       "3      4  2010          9657           9.9      132     209.024  217.376\n",
       "4      5  2010          9781           9.6      177     206.172  217.299\n",
       "5      6  2010         14245           9.4      138     204.161  217.285\n",
       "6      7  2010         18215           9.5      156     206.834  217.677\n",
       "7      8  2010         15181           9.5      202     208.927  218.012\n",
       "8      9  2010         10062           9.5      150     209.850  218.281\n",
       "9     10  2010          9497           9.5      178     216.655  219.024"
      ]
     },
     "execution_count": 44,
     "metadata": {},
     "output_type": "execute_result"
    }
   ],
   "source": [
    "##### exercise #####\n",
    "# Yêu cầu: Sắp xếp lại thứ tự các hàng dữ liệu theo tháng/năm\n",
    "# Gợi ý: sử dụng df.sort_values và df.reset_index\n",
    "######################\n",
    "df = df.sort_values(by=['Year', 'Month'])\n",
    "df = df.reset_index(drop=True)\n",
    "df.head(10)"
   ]
  },
  {
   "cell_type": "code",
   "execution_count": 45,
   "id": "e7e4924b-15ae-4bf3-ab04-c73f4f6ebb95",
   "metadata": {},
   "outputs": [
    {
     "data": {
      "image/png": "[encoded data removed]",
      "text/plain": [
       "<Figure size 648x432 with 1 Axes>"
      ]
     },
     "metadata": {
      "needs_background": "light"
     },
     "output_type": "display_data"
    }
   ],
   "source": [
    "import matplotlib.pyplot as plt\n",
    "\n",
    "plt.figure(figsize=(9,6))\n",
    " \n",
    "plt.plot(df.ElantraSales.values)\n",
    " \n",
    "plt.xlabel('Time index')\n",
    "\n",
    "plt.ylabel('Sales')\n",
    " \n",
    " \n",
    "# function to show the plot\n",
    "plt.show()"
   ]
  },
  {
   "cell_type": "code",
   "execution_count": 46,
   "id": "b40e4f2c-975c-4aba-8378-2476d7c169fd",
   "metadata": {},
   "outputs": [
    {
     "data": {
      "text/plain": [
       "Index(['Unemployment', 'Queries', 'CPI_energy', 'CPI_all'], dtype='object')"
      ]
     },
     "execution_count": 46,
     "metadata": {},
     "output_type": "execute_result"
    }
   ],
   "source": [
    "numeric_feats = df.columns.drop([\"ElantraSales\", \"Month\", \"Year\"]) \n",
    "numeric_feats"
   ]
  },
  {
   "cell_type": "code",
   "execution_count": 47,
   "id": "2658fdbd-ee9f-4480-9a66-df119979ee20",
   "metadata": {},
   "outputs": [],
   "source": [
    "df_train = df[df.Year < 2013]\n",
    "df_test = df[df.Year >= 2013]\n",
    "\n",
    "y_train = df_train.ElantraSales.values\n",
    "y_test = df_test.ElantraSales.values"
   ]
  },
  {
   "cell_type": "markdown",
   "id": "5ddaf36b-848b-46a6-b23e-4243e31f531b",
   "metadata": {},
   "source": [
    "**feature scaling**"
   ]
  },
  {
   "cell_type": "code",
   "execution_count": 48,
   "id": "a1089e1e-b170-4382-b12d-0b8b4c2173cf",
   "metadata": {},
   "outputs": [],
   "source": [
    "# Chuẩn hóa dữ liệu bằng StandardScaler, dữ liệu được chuẩn hóa theo dạng x -> (x-mean)/std \n",
    "# Nếu x có phân phối Gauss, dữ liệu chuẩn hóa sẽ thuộc phân phối N(0,1)\n",
    "from sklearn.preprocessing import StandardScaler\n",
    "\n",
    "# Scaling outputs obtained from TRAINING SET\n",
    "scaler = StandardScaler().fit(df_train[numeric_feats])\n",
    "\n",
    "X_train = scaler.transform(df_train[numeric_feats])\n",
    "X_test = scaler.transform(df_test[numeric_feats])"
   ]
  },
  {
   "cell_type": "markdown",
   "id": "37715735-b537-485c-8f6e-aa8361488cec",
   "metadata": {},
   "source": [
    "# Xây dựng Mô hình"
   ]
  },
  {
   "cell_type": "code",
   "execution_count": 49,
   "id": "deddfe16-d873-406f-8f2b-66f2ae675969",
   "metadata": {},
   "outputs": [
    {
     "data": {
      "text/plain": [
       "LinearRegression()"
      ]
     },
     "execution_count": 49,
     "metadata": {},
     "output_type": "execute_result"
    }
   ],
   "source": [
    "###### exercise #####\n",
    "# Yêu cầu: Xây dựng và huấn luyện mô hình Linear Regression\n",
    "# Gợi ý: sử dụng hàm fit() nhưng trong bài thực hành 1\n",
    "######################\n",
    "from sklearn.linear_model import LinearRegression\n",
    "\n",
    "model1 = LinearRegression()\n",
    "model1.fit(X_train, y_train)"
   ]
  },
  {
   "cell_type": "markdown",
   "id": "0d6dde32-0257-4542-b6cb-0b9d82833048",
   "metadata": {},
   "source": [
    "# Đánh giá"
   ]
  },
  {
   "cell_type": "code",
   "execution_count": 50,
   "id": "9d163fa8-9309-40fb-b435-444beb295c84",
   "metadata": {},
   "outputs": [],
   "source": [
    "from sklearn.metrics import mean_squared_error\n",
    "\n",
    "def relative_error(y_true, y_pred):\n",
    "    errors = np.abs(y_pred - y_true).astype(float) / y_true\n",
    "    return np.mean(errors)*100"
   ]
  },
  {
   "cell_type": "code",
   "execution_count": 51,
   "id": "2899d591-f9c6-4c40-b126-ef1d1660eb1c",
   "metadata": {},
   "outputs": [
    {
     "name": "stdout",
     "output_type": "stream",
     "text": [
      "RMSE: 5017.35\n",
      "Mean relative errors: 19.0%\n"
     ]
    }
   ],
   "source": [
    "y_pred_test = model1.predict(X_test)\n",
    "print ('RMSE: {:.2f}'.format(np.sqrt(mean_squared_error(y_test, y_pred_test))))\n",
    "print ('Mean relative errors: {:.1f}%'.format(relative_error(y_test, y_pred_test)))"
   ]
  },
  {
   "cell_type": "code",
   "execution_count": 52,
   "id": "ba545a96-a97e-483c-a31c-7fee063f479e",
   "metadata": {
    "tags": []
   },
   "outputs": [
    {
     "data": {
      "image/png": "[encoded data removed]",
      "text/plain": [
       "<Figure size 648x432 with 1 Axes>"
      ]
     },
     "metadata": {
      "needs_background": "light"
     },
     "output_type": "display_data"
    }
   ],
   "source": [
    "###### exercise #####\n",
    "# Yêu cầu: Vẽ biểu đồ đường so sánh y_test và y_pred_test\n",
    "# Gợi ý: sử dụng matplotlib như bài thực hành 1\n",
    "######################\n",
    "import matplotlib.pyplot as plt\n",
    "\n",
    "plt.figure(figsize=(9,6))\n",
    " \n",
    "plt.plot(y_test)\n",
    "plt.plot(y_pred_test)\n",
    " \n",
    "plt.xlabel('Time index')\n",
    "\n",
    "plt.ylabel('Sales')\n",
    " \n",
    " \n",
    "# function to show the plot\n",
    "plt.show()"
   ]
  },
  {
   "cell_type": "markdown",
   "id": "e4e7b12e-d073-46ec-bf04-33cd7b6c3da7",
   "metadata": {},
   "source": [
    "Kết quả dự đoán không khớp một chút nào so với dữ liệu thật\n",
    "\n",
    "Lý do có thể là vì chúng ta chưa tận dụng hết thông tin của dữ liệu\n",
    "\n",
    "Quan sát thấy doanh thu có xu hướng biến động theo từ tháng trong một năm\n",
    "\n",
    "=> Tận dụng thông tin tháng hiệu quả. Có thể xây dựng mô hình regression với đặc trưng Month theo kiểu categorical kết hợp với các đặc trưng khác."
   ]
  },
  {
   "cell_type": "markdown",
   "id": "74c08d87-c460-4821-96fe-28c3d269704c",
   "metadata": {},
   "source": [
    "# Giải pháp cải tiến"
   ]
  },
  {
   "cell_type": "code",
   "execution_count": 53,
   "id": "4725ca58-e860-4790-b071-27efc7b714db",
   "metadata": {},
   "outputs": [
    {
     "data": {
      "text/html": [
       "<div>\n",
       "<style scoped>\n",
       "    .dataframe tbody tr th:only-of-type {\n",
       "        vertical-align: middle;\n",
       "    }\n",
       "\n",
       "    .dataframe tbody tr th {\n",
       "        vertical-align: top;\n",
       "    }\n",
       "\n",
       "    .dataframe thead th {\n",
       "        text-align: right;\n",
       "    }\n",
       "</style>\n",
       "<table border=\"1\" class=\"dataframe\">\n",
       "  <thead>\n",
       "    <tr style=\"text-align: right;\">\n",
       "      <th></th>\n",
       "      <th>1</th>\n",
       "      <th>2</th>\n",
       "      <th>3</th>\n",
       "      <th>4</th>\n",
       "      <th>5</th>\n",
       "      <th>6</th>\n",
       "      <th>7</th>\n",
       "      <th>8</th>\n",
       "      <th>9</th>\n",
       "      <th>10</th>\n",
       "      <th>11</th>\n",
       "      <th>12</th>\n",
       "    </tr>\n",
       "  </thead>\n",
       "  <tbody>\n",
       "    <tr>\n",
       "      <th>0</th>\n",
       "      <td>1</td>\n",
       "      <td>0</td>\n",
       "      <td>0</td>\n",
       "      <td>0</td>\n",
       "      <td>0</td>\n",
       "      <td>0</td>\n",
       "      <td>0</td>\n",
       "      <td>0</td>\n",
       "      <td>0</td>\n",
       "      <td>0</td>\n",
       "      <td>0</td>\n",
       "      <td>0</td>\n",
       "    </tr>\n",
       "    <tr>\n",
       "      <th>1</th>\n",
       "      <td>0</td>\n",
       "      <td>1</td>\n",
       "      <td>0</td>\n",
       "      <td>0</td>\n",
       "      <td>0</td>\n",
       "      <td>0</td>\n",
       "      <td>0</td>\n",
       "      <td>0</td>\n",
       "      <td>0</td>\n",
       "      <td>0</td>\n",
       "      <td>0</td>\n",
       "      <td>0</td>\n",
       "    </tr>\n",
       "    <tr>\n",
       "      <th>2</th>\n",
       "      <td>0</td>\n",
       "      <td>0</td>\n",
       "      <td>1</td>\n",
       "      <td>0</td>\n",
       "      <td>0</td>\n",
       "      <td>0</td>\n",
       "      <td>0</td>\n",
       "      <td>0</td>\n",
       "      <td>0</td>\n",
       "      <td>0</td>\n",
       "      <td>0</td>\n",
       "      <td>0</td>\n",
       "    </tr>\n",
       "    <tr>\n",
       "      <th>3</th>\n",
       "      <td>0</td>\n",
       "      <td>0</td>\n",
       "      <td>0</td>\n",
       "      <td>1</td>\n",
       "      <td>0</td>\n",
       "      <td>0</td>\n",
       "      <td>0</td>\n",
       "      <td>0</td>\n",
       "      <td>0</td>\n",
       "      <td>0</td>\n",
       "      <td>0</td>\n",
       "      <td>0</td>\n",
       "    </tr>\n",
       "    <tr>\n",
       "      <th>4</th>\n",
       "      <td>0</td>\n",
       "      <td>0</td>\n",
       "      <td>0</td>\n",
       "      <td>0</td>\n",
       "      <td>1</td>\n",
       "      <td>0</td>\n",
       "      <td>0</td>\n",
       "      <td>0</td>\n",
       "      <td>0</td>\n",
       "      <td>0</td>\n",
       "      <td>0</td>\n",
       "      <td>0</td>\n",
       "    </tr>\n",
       "  </tbody>\n",
       "</table>\n",
       "</div>"
      ],
      "text/plain": [
       "   1   2   3   4   5   6   7   8   9   10  11  12\n",
       "0   1   0   0   0   0   0   0   0   0   0   0   0\n",
       "1   0   1   0   0   0   0   0   0   0   0   0   0\n",
       "2   0   0   1   0   0   0   0   0   0   0   0   0\n",
       "3   0   0   0   1   0   0   0   0   0   0   0   0\n",
       "4   0   0   0   0   1   0   0   0   0   0   0   0"
      ]
     },
     "execution_count": 53,
     "metadata": {},
     "output_type": "execute_result"
    }
   ],
   "source": [
    "month_onehot_train = pd.get_dummies(df_train.Month)\n",
    "month_onehot_train.head()"
   ]
  },
  {
   "cell_type": "code",
   "execution_count": 54,
   "id": "8640eb1c-a9f5-4f6b-9e68-4732c1d785cf",
   "metadata": {},
   "outputs": [
    {
     "data": {
      "text/plain": [
       "array([ 1.24576653, -1.25517995, -1.21438113, -1.35903692,  1.        ,\n",
       "        0.        ,  0.        ,  0.        ,  0.        ,  0.        ,\n",
       "        0.        ,  0.        ,  0.        ,  0.        ,  0.        ,\n",
       "        0.        ])"
      ]
     },
     "execution_count": 54,
     "metadata": {},
     "output_type": "execute_result"
    }
   ],
   "source": [
    "###### exercise #####\n",
    "# Yêu cầu: Ghép đặc trưng Month_1, ..., Month_12 vào các đặc trưng đang có, kết quả ở dạng numpy array\n",
    "# Gợi ý: sử dụng np.hstack\n",
    "######################\n",
    "X_train = np.hstack((X_train, month_onehot_train))\n",
    "X_train[0]"
   ]
  },
  {
   "cell_type": "code",
   "execution_count": 55,
   "id": "15ecc731-9222-48f3-89a4-3b82b7a89ea6",
   "metadata": {},
   "outputs": [],
   "source": [
    "# Tương tự với X_test\n",
    "X_test = np.hstack((X_test, pd.get_dummies(df_test.Month)))"
   ]
  },
  {
   "cell_type": "code",
   "execution_count": 56,
   "id": "2f16fa13-c6fd-4849-8f22-46f5bb903c8c",
   "metadata": {},
   "outputs": [
    {
     "data": {
      "text/plain": [
       "LinearRegression()"
      ]
     },
     "execution_count": 56,
     "metadata": {},
     "output_type": "execute_result"
    }
   ],
   "source": [
    "model1.fit(X_train, y_train)"
   ]
  },
  {
   "cell_type": "code",
   "execution_count": 57,
   "id": "205642ee-8d3d-4435-805a-449f93bde132",
   "metadata": {},
   "outputs": [
    {
     "name": "stdout",
     "output_type": "stream",
     "text": [
      "RMSE: 3590.37\n",
      "Mean relative errors: 12.8%\n"
     ]
    }
   ],
   "source": [
    "y_pred_test = model1.predict(X_test)\n",
    "print ('RMSE: {:.2f}'.format(np.sqrt(mean_squared_error(y_test, y_pred_test))))\n",
    "print ('Mean relative errors: {:.1f}%'.format(relative_error(y_test, y_pred_test)))"
   ]
  },
  {
   "cell_type": "code",
   "execution_count": 58,
   "id": "99b73e09-3c87-428d-8625-5599a7ca4047",
   "metadata": {},
   "outputs": [
    {
     "data": {
      "image/png": "[encoded data removed]",
      "text/plain": [
       "<Figure size 648x432 with 1 Axes>"
      ]
     },
     "metadata": {
      "needs_background": "light"
     },
     "output_type": "display_data"
    }
   ],
   "source": [
    "plt.figure(figsize=(9,6))\n",
    " \n",
    "plt.plot(y_test)\n",
    "plt.plot(y_pred_test)\n",
    " \n",
    "plt.xlabel('Time index')\n",
    "\n",
    "plt.ylabel('Sales')\n",
    " \n",
    " \n",
    "# function to show the plot\n",
    "plt.show()"
   ]
  }
 ],
 "metadata": {
  "kernelspec": {
   "display_name": "Python 3",
   "language": "python",
   "name": "python3"
  },
  "language_info": {
   "codemirror_mode": {
    "name": "ipython",
    "version": 3
   },
   "file_extension": ".py",
   "mimetype": "text/x-python",
   "name": "python",
   "nbconvert_exporter": "python",
   "pygments_lexer": "ipython3",
   "version": "3.8.8"
  }
 },
 "nbformat": 4,
 "nbformat_minor": 5
}
