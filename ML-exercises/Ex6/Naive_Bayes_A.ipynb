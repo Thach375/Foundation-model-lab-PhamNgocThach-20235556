{
 "cells": [
  {
   "cell_type": "markdown",
   "metadata": {
    "id": "LijPfBPXkebb"
   },
   "source": [
    "# Bài toán phân loại sử dụng Naive Bayes \n",
    "\n",
    "Mục tiêu: \n",
    "\n",
    "- Xây dựng được mô hình nb sử dụng thư viện sklearn. \n",
    "- Ứng dụng, hiểu cách áp dụng mô hình nb vào giải quyết bài toán thực tế (vd: phân loại văn bản) \n",
    "- Sử dụng độ đo Accuracy để làm độ đo đánh giá chất lượng mô hình. \n",
    "\n",
    "Vấn đề: \n",
    "- Có một tập các văn bản dạng text không có nhãn, làm sao để biết văn bản này là thuộc về thể loại nào, pháp luật, đời sống, văn học, thể thao ...\n",
    "- => Xây dựng mô hình học máy có thể phân loại các thể loại của văn bản chỉ dựa trên nội dung.  \n",
    "\n",
    "Dữ liệu: \n",
    "- Có tập các văn bản và nhãn tương ứng của từng văn bản trong một khoảng thời gian \n",
    "- Tập các nhãn - 10 nhãn văn bản: \n",
    "    > Giải trí, Khoa học - Công nghệ, Kinh tế, Pháp luật, Sức khỏe, Thể thao, Thời sự, Tin khác, Độc giả, Đời sống - Xã hội\n",
    "- Ví dụ văn bản nhãn **thể thao**: \n",
    "    > \"Dân_trí Real Madrid đã dẫn trước trong cả trận đấu , nhưng họ vẫn phải chấp_nhận bị Dortmund cầm hòa 2-2 ở Bernabeu . Real Madrid chấp_nhận đứng thứ_hai ở bảng F Champions League ...\"\n",
    "\n",
    "Bài toán: \n",
    "- Input: tập các từ trong văn bản 1 mẫu dữ liệu $X = [x_1, x_2, ... x_n]$\n",
    "- Output: nhãn $y$ là 1 trong 10 nhãn trên "
   ]
  },
  {
   "cell_type": "markdown",
   "metadata": {
    "id": "IqGqHaHZ6FU0"
   },
   "source": [
    "# Nội dung thực hành"
   ]
  },
  {
   "cell_type": "markdown",
   "metadata": {
    "id": "82jlDZZj6H0z"
   },
   "source": [
    "1. Nếu sử dụng GColab, cần kết nối với server và Gdrive(nếu sử dụng dữ liệu trong drive)"
   ]
  },
  {
   "cell_type": "code",
   "execution_count": 9,
   "metadata": {
    "colab": {
     "base_uri": "https://localhost:8080/"
    },
    "executionInfo": {
     "elapsed": 545,
     "status": "ok",
     "timestamp": 1630408827382,
     "user": {
      "displayName": "Quyen Tran",
      "photoUrl": "https://lh3.googleusercontent.com/a-/AOh14GhoMMy50mqj9WbAat9Z4itNZ14utD-jBkhGuYfk=s64",
      "userId": "15840549449197934767"
     },
     "user_tz": -420
    },
    "id": "ZfqLntit-1cX",
    "outputId": "843db4ea-d178-4f1e-d9af-7e84a580efc3"
   },
   "outputs": [
    {
     "name": "stdout",
     "output_type": "stream",
     "text": [
      "Drive already mounted at /content/drive; to attempt to forcibly remount, call drive.mount(\"/content/drive\", force_remount=True).\n"
     ]
    }
   ],
   "source": [
    "from google.colab import drive\n",
    "drive.mount('/content/drive')"
   ]
  },
  {
   "cell_type": "code",
   "execution_count": 10,
   "metadata": {
    "colab": {
     "base_uri": "https://localhost:8080/"
    },
    "executionInfo": {
     "elapsed": 7,
     "status": "ok",
     "timestamp": 1630408827673,
     "user": {
      "displayName": "Quyen Tran",
      "photoUrl": "https://lh3.googleusercontent.com/a-/AOh14GhoMMy50mqj9WbAat9Z4itNZ14utD-jBkhGuYfk=s64",
      "userId": "15840549449197934767"
     },
     "user_tz": -420
    },
    "id": "65aXLXKd_2O7",
    "outputId": "7d2fbc5c-edf7-4994-ae21-7645e1a82578"
   },
   "outputs": [
    {
     "name": "stdout",
     "output_type": "stream",
     "text": [
      "/content/drive/MyDrive/NB_practice/1. Practice\n"
     ]
    }
   ],
   "source": [
    "cd /content/drive/MyDrive/NB_practice/1. Practice"
   ]
  },
  {
   "cell_type": "markdown",
   "metadata": {
    "id": "pj1pLKZ86TDH"
   },
   "source": [
    "2. Import các thư viện cần thiết, cài thêm một số thư viện chưa sẵn có"
   ]
  },
  {
   "cell_type": "code",
   "execution_count": 11,
   "metadata": {
    "colab": {
     "base_uri": "https://localhost:8080/"
    },
    "executionInfo": {
     "elapsed": 3379,
     "status": "ok",
     "timestamp": 1630408831046,
     "user": {
      "displayName": "Quyen Tran",
      "photoUrl": "https://lh3.googleusercontent.com/a-/AOh14GhoMMy50mqj9WbAat9Z4itNZ14utD-jBkhGuYfk=s64",
      "userId": "15840549449197934767"
     },
     "user_tz": -420
    },
    "id": "QxQXkouYkebh",
    "outputId": "c7a6d0eb-2254-48be-c761-e9804b486d9c"
   },
   "outputs": [
    {
     "name": "stdout",
     "output_type": "stream",
     "text": [
      "Requirement already satisfied: pyvi in /usr/local/lib/python3.7/dist-packages (0.1.1)\n",
      "Requirement already satisfied: sklearn-crfsuite in /usr/local/lib/python3.7/dist-packages (from pyvi) (0.3.6)\n",
      "Requirement already satisfied: scikit-learn in /usr/local/lib/python3.7/dist-packages (from pyvi) (0.22.2.post1)\n",
      "Requirement already satisfied: numpy>=1.11.0 in /usr/local/lib/python3.7/dist-packages (from scikit-learn->pyvi) (1.19.5)\n",
      "Requirement already satisfied: scipy>=0.17.0 in /usr/local/lib/python3.7/dist-packages (from scikit-learn->pyvi) (1.4.1)\n",
      "Requirement already satisfied: joblib>=0.11 in /usr/local/lib/python3.7/dist-packages (from scikit-learn->pyvi) (1.0.1)\n",
      "Requirement already satisfied: tabulate in /usr/local/lib/python3.7/dist-packages (from sklearn-crfsuite->pyvi) (0.8.9)\n",
      "Requirement already satisfied: tqdm>=2.0 in /usr/local/lib/python3.7/dist-packages (from sklearn-crfsuite->pyvi) (4.62.0)\n",
      "Requirement already satisfied: python-crfsuite>=0.8.3 in /usr/local/lib/python3.7/dist-packages (from sklearn-crfsuite->pyvi) (0.9.7)\n",
      "Requirement already satisfied: six in /usr/local/lib/python3.7/dist-packages (from sklearn-crfsuite->pyvi) (1.15.0)\n"
     ]
    }
   ],
   "source": [
    "# Cài đặt thư viện xử lý ngôn ngữ cho tiếng Việt!\n",
    "!pip install pyvi"
   ]
  },
  {
   "cell_type": "code",
   "execution_count": 12,
   "metadata": {
    "executionInfo": {
     "elapsed": 14,
     "status": "ok",
     "timestamp": 1630408831510,
     "user": {
      "displayName": "Quyen Tran",
      "photoUrl": "https://lh3.googleusercontent.com/a-/AOh14GhoMMy50mqj9WbAat9Z4itNZ14utD-jBkhGuYfk=s64",
      "userId": "15840549449197934767"
     },
     "user_tz": -420
    },
    "id": "lKp1z1cHkebk"
   },
   "outputs": [],
   "source": [
    "import matplotlib.pyplot as plt\n",
    "import numpy as np\n",
    "\n",
    "#from sklearn.datasets import load_files\n",
    "from pyvi import ViTokenizer # Tách từ tiếng Việt\n",
    "\n",
    "\n",
    "import sklearn.naive_bayes as naive_bayes\n",
    "from sklearn.datasets import load_files\n",
    "from sklearn.feature_extraction.text import CountVectorizer, TfidfVectorizer\n",
    "from sklearn.feature_extraction.text import TfidfTransformer\n",
    "from sklearn.model_selection import train_test_split, GridSearchCV\n",
    "from sklearn.pipeline import Pipeline\n",
    "from sklearn.model_selection import ShuffleSplit\n",
    "from sklearn.model_selection import learning_curve\n",
    "\n",
    "%matplotlib inline"
   ]
  },
  {
   "cell_type": "markdown",
   "metadata": {
    "id": "k-qNL6tkkebl"
   },
   "source": [
    "3. Load dữ liệu từ thư mục đã crawl từ trước \n",
    "\n",
    ">Cấu trúc thư mục như sau \n",
    "- data/news_1135/\n",
    "    - Kinh tế: \n",
    "        - bài báo 1.txt \n",
    "        - bài báo 2.txt \n",
    "    - Pháp luật\n",
    "        - bài báo 3.txt \n",
    "        - bài báo 4.txt "
   ]
  },
  {
   "cell_type": "code",
   "execution_count": 13,
   "metadata": {
    "colab": {
     "base_uri": "https://localhost:8080/"
    },
    "executionInfo": {
     "elapsed": 66105,
     "status": "ok",
     "timestamp": 1630408897603,
     "user": {
      "displayName": "Quyen Tran",
      "photoUrl": "https://lh3.googleusercontent.com/a-/AOh14GhoMMy50mqj9WbAat9Z4itNZ14utD-jBkhGuYfk=s64",
      "userId": "15840549449197934767"
     },
     "user_tz": -420
    },
    "id": "9Z3C3XqNkebm",
    "outputId": "a2267e5d-d368-451f-ef21-88006f26d48f"
   },
   "outputs": [
    {
     "name": "stdout",
     "output_type": "stream",
     "text": [
      "['data/news_1135/Thể thao/2e62de81ade8318f66cc740f5ede5607ea1bf002.txt'\n",
      " 'data/news_1135/Thể thao/f9bd156031140a7db52ae51de4561f234a0eb277.txt'\n",
      " 'data/news_1135/Thể thao/aeeb3b3b0dfc936de928f0b004259aca70aa4efa.txt'\n",
      " 'data/news_1135/Thể thao/7787f359bd1efeee382a8077a7725e03b01e3a53.txt'\n",
      " 'data/news_1135/Thể thao/cf967f8831bf7102304dce974b370ad26991fc65.txt'\n",
      " 'data/news_1135/Thể thao/92169a7c47b1661f24aa1651f418490049c95cac.txt'\n",
      " 'data/news_1135/Sức khỏe/b6c8c39ad177edc5b6b7509f7c21eebe21631970.txt'\n",
      " 'data/news_1135/Thể thao/f206d5fcf67b820dbe314e7d152f5b2d181e38c1.txt'\n",
      " 'data/news_1135/Sức khỏe/f6b9942c0ab5548ede99940d6ed1dd6fd3b36dbe.txt'\n",
      " 'data/news_1135/Sức khỏe/24181828a2a95af5c40505922a64bb6fb177e266.txt'\n",
      " 'data/news_1135/Thể thao/4075a388765339747f4e5961a0a34a9bcf953413.txt'\n",
      " 'data/news_1135/Sức khỏe/774c529f2193777355fa684446dd195f79391d9c.txt'\n",
      " 'data/news_1135/Sức khỏe/0fb06f1f48bba02087ae57d6625573d9e1d2e77a.txt'\n",
      " 'data/news_1135/Thể thao/86def9a683b6d9c5f3aea66f6cb1f231c5938aa5.txt'\n",
      " 'data/news_1135/Sức khỏe/f44b40ac0aa93d26119c0412779ba22ea821143a.txt'\n",
      " 'data/news_1135/Thể thao/d388bd12f023a7fc0738908960f96f3e462fd7ef.txt'\n",
      " 'data/news_1135/Thể thao/7abca41c1b1dd6ca1dd530086c3a4008052ac68e.txt'\n",
      " 'data/news_1135/Thể thao/fbad9127404d5aca3ce9e3239ad765e78887c740.txt'\n",
      " 'data/news_1135/Thể thao/fbea98be67e128e89707e0e87031005bd7f1c45c.txt'\n",
      " 'data/news_1135/Thể thao/253edbad0fe23840ea12d26e6fab4ef2c21a8410.txt'\n",
      " 'data/news_1135/Thể thao/45888a588888498ac6feb72251c24253b1f1e688.txt'\n",
      " 'data/news_1135/Thể thao/0eda2f40ec17ed8ff6d9ccf336cda9bbd708df01.txt'\n",
      " 'data/news_1135/Thể thao/632fe3f5cc84b069b2d7066049ec6b81ea8bab0d.txt'\n",
      " 'data/news_1135/Thể thao/0f22a1b40c529312ab6c42cd5e2142f8fac31347.txt'\n",
      " 'data/news_1135/Thể thao/987a079f10898d1e379950f0392bce3777386864.txt'\n",
      " 'data/news_1135/Sức khỏe/2f2584a62e860201b35c849e4a58fa168c6a3fa7.txt'\n",
      " 'data/news_1135/Thể thao/9a65dc71b7b835a75163fdf790d8ddfef5c20ece.txt'\n",
      " 'data/news_1135/Thể thao/9c01b8a7b2ab5bc9bc3b4bb3303374f5304e6ac9.txt'\n",
      " 'data/news_1135/Thể thao/60a22ade184347e27d8502df77059e93509070f2.txt'\n",
      " 'data/news_1135/Thể thao/730c83e51f0037a36d8f1c604e3090a2a593df74.txt'\n",
      " 'data/news_1135/Sức khỏe/d09f6be09f1445e433ec96a7dcbbd799c5cb6d07.txt'\n",
      " 'data/news_1135/Thể thao/3af765d616bccb98ce49577e1823ad80f73e9a0b.txt'\n",
      " 'data/news_1135/Thể thao/99395ae454298a82f29e88d17ae03c6eee87565c.txt'\n",
      " 'data/news_1135/Thể thao/b08e07b80dccef34f3873ac58a7264bbb67a8c01.txt'\n",
      " 'data/news_1135/Sức khỏe/401240c3b4d4586cbd0011ae707f4fc48ecdb878.txt'\n",
      " 'data/news_1135/Sức khỏe/36153c653292d0206aabaa9d8b9af5c08c74a7bd.txt'\n",
      " 'data/news_1135/Thể thao/2a36fb55beed9e6a32bfda5945774dbaf062a0ad.txt'\n",
      " 'data/news_1135/Sức khỏe/2118468a95b418b33ab9aae031c932e80489c692.txt'\n",
      " 'data/news_1135/Thể thao/0f26e72618f188477a87f84f8d0eea170fe7ebcf.txt'\n",
      " 'data/news_1135/Thể thao/9e1ddb7990519964503c93a84afc3710a7d1a633.txt'\n",
      " 'data/news_1135/Thể thao/3148e19f05b147d37f101724b293766af1e186a0.txt'\n",
      " 'data/news_1135/Thể thao/7d92472bc9c6318ffb7f7f010b6a720bf5b8ac7a.txt'\n",
      " 'data/news_1135/Thể thao/958117b6b2e94e1c9ecf557ca8b2019b4113e128.txt'\n",
      " 'data/news_1135/Thể thao/3f26668f3379443b3803c5b1ce3a29c3c26e18d3.txt'\n",
      " 'data/news_1135/Thể thao/f76382aa75f9f2a8888a9f3940e7c1bea1d5df58.txt'\n",
      " 'data/news_1135/Sức khỏe/6f51cac4d6f5547fe0ea51afa2e1803c78653992.txt'\n",
      " 'data/news_1135/Thể thao/82eab1911c8bec054c3e36129292f2bd8e379b02.txt'\n",
      " 'data/news_1135/Thể thao/ed6e4fc47fbb362d9a46a02e789e1f45fc4a34d6.txt'\n",
      " 'data/news_1135/Thể thao/f241b1ba68084e17728870d16bcb8bbdd9e37708.txt'\n",
      " 'data/news_1135/Thể thao/7a2a3c443fdb2599b652e61daeed161b75f8b3ee.txt'\n",
      " 'data/news_1135/Thể thao/502411b89d6271fa323337007d55e5c078855299.txt'\n",
      " 'data/news_1135/Thể thao/dadf780f3a8d2702b6f6e565b6436f5666cdd8ef.txt'\n",
      " 'data/news_1135/Thời sự/163dd787e4c052696a6977468a209e62ca2df48a.txt'\n",
      " 'data/news_1135/Sức khỏe/3d7399de5bf9a54634c3ccbc0456de0805f172bb.txt'\n",
      " 'data/news_1135/Thể thao/5ee1dd38f31f2c61aa851907eddbc3d84dbad1b4.txt'\n",
      " 'data/news_1135/Thể thao/42dc335bdd59d6b3b7fab65c6515311daadf6f50.txt'\n",
      " 'data/news_1135/Thời sự/085c6cc09343ecd67a001775c0eb25fa6efa60e7.txt'\n",
      " 'data/news_1135/Sức khỏe/457e4d1405b5be05fc32b391c704882eb1b386cc.txt'\n",
      " 'data/news_1135/Thể thao/fa9e0baf024a891963eee3faa0a7a9f9207d56e8.txt'\n",
      " 'data/news_1135/Sức khỏe/b986b5d131c994d3c89dae6a1b536a08d1e57fe6.txt'\n",
      " 'data/news_1135/Thể thao/07a14cd96285d73e4623d20d2f1d4d6e53a35eaa.txt'\n",
      " 'data/news_1135/Sức khỏe/0d20684ca0b0bbfdd2acf2c9afaceb0b0fb76706.txt'\n",
      " 'data/news_1135/Thể thao/16f102915e67794763026b09ec525436484689eb.txt'\n",
      " 'data/news_1135/Thể thao/d4a987e3b961ed2040e91a801a522cc2f3acd7c8.txt'\n",
      " 'data/news_1135/Sức khỏe/e42f150a7ddc1d35bd87cbf19c5ccacdd454dd5a.txt'\n",
      " 'data/news_1135/Sức khỏe/cde732a56f46549a19ff03fc69b6054fb603686c.txt'\n",
      " 'data/news_1135/Sức khỏe/fa5f09835c09ca234065cb8020ea2c8a49094516.txt'\n",
      " 'data/news_1135/Sức khỏe/5bd037a339c8311bce9c01aa8cd49a0ad9a68992.txt'\n",
      " 'data/news_1135/Thể thao/a4020c92b72f032b67e84f6e4f928ce3a1061b28.txt'\n",
      " 'data/news_1135/Sức khỏe/88829ba824346011c1bf781a837a0d9419a72f37.txt'\n",
      " 'data/news_1135/Sức khỏe/3044900ba3cc1f3521ecb5dc9bb5e4eb403335d0.txt'\n",
      " 'data/news_1135/Thể thao/5c6f96df4734f383b1ad906c0175cf0442e2298b.txt'\n",
      " 'data/news_1135/Thể thao/25100114c5bfe2e54536a46fda3079b4985d7155.txt'\n",
      " 'data/news_1135/Sức khỏe/4b801eaac7f85cb09c675344b5343726830f9f2f.txt'\n",
      " 'data/news_1135/Sức khỏe/64e45d56781a71c9931fc0c3cab76c9dc66a7712.txt'\n",
      " 'data/news_1135/Sức khỏe/e0b3dcfaca2631b25ac5569b7ba448d28483a00c.txt'\n",
      " 'data/news_1135/Sức khỏe/d6461b7e660f4ae34b1b678d2a0884d95404049d.txt'\n",
      " 'data/news_1135/Thể thao/9da3289d656cf62d0fed69079f94faa05a5a4482.txt'\n",
      " 'data/news_1135/Thể thao/374528d301abac72c4d3001ae9af3c2e09a3f601.txt'\n",
      " 'data/news_1135/Sức khỏe/40f4ddfaa16f6f4edf0e5fd5bde6fdacac8de9d9.txt'\n",
      " 'data/news_1135/Thể thao/a8345d1b121833e1265e6ca8fc3e429b7dc666b8.txt'\n",
      " 'data/news_1135/Thể thao/badd7a9bd190a7152b579f10908a4eb633f3e0ce.txt'\n",
      " 'data/news_1135/Sức khỏe/cfbf42dd5d2d70be830e47d38b899f2fa221e8c9.txt'\n",
      " 'data/news_1135/Thể thao/cc8d939df94a5b65003da24224fdc95dbcbfcb7d.txt'\n",
      " 'data/news_1135/Thể thao/145318737e5ffee85a10ba03f018b87d1b62f308.txt'\n",
      " 'data/news_1135/Sức khỏe/cb4f08fa848f837ed61d55e72089c067a53c458d.txt'\n",
      " 'data/news_1135/Thể thao/417a06dd91a872fb0f7f63628f5944a2e3483fb7.txt'\n",
      " 'data/news_1135/Thể thao/983b4e49ed8330dd6b01e1330f79e34d25d0e0c5.txt'\n",
      " 'data/news_1135/Thể thao/557655d1792ffdffac66452534f5b2d98877b7c0.txt'\n",
      " 'data/news_1135/Thể thao/1e8cc19c72ecb7455b479849e4ce5582c142e944.txt'\n",
      " 'data/news_1135/Thể thao/c0469a82c5a7b508203777debc66ac46bbc70ee0.txt'\n",
      " 'data/news_1135/Thể thao/6537915f28358e9a5f58d18d20c291a178ec0da9.txt'\n",
      " 'data/news_1135/Thể thao/9b11e477ca23707cb5b5ad8e200dd9e5e4d7479f.txt'\n",
      " 'data/news_1135/Thể thao/45890a487b6aabf3a3d37f238ecfd858fc1362d4.txt'\n",
      " 'data/news_1135/Sức khỏe/95bc031af3cbacf06c185bee36f851957002e6bd.txt'\n",
      " 'data/news_1135/Sức khỏe/35a541674a6bb6c2c847db3650bddfa9b652cc02.txt'\n",
      " 'data/news_1135/Sức khỏe/6210261836c16928680709765bf52173c9f43dcd.txt'\n",
      " 'data/news_1135/Thể thao/7c4e2c0d15cf600e6b60d4cd195d89ee0eb3e408.txt'\n",
      " 'data/news_1135/Thể thao/f8826e003af6a07977401eb85ea138f8431fef50.txt'\n",
      " 'data/news_1135/Sức khỏe/4187c4a1d528fd9ea4630d2709229df0b0d09c3d.txt'\n",
      " 'data/news_1135/Thể thao/90688380f62ff0054e161667e09f42cad2a009e0.txt'\n",
      " 'data/news_1135/Sức khỏe/b9fd222c27783e7fa9d04526138db16299e5894a.txt'\n",
      " 'data/news_1135/Thể thao/97b5fbc82e26be4a3b372b50f73d180d37e21bb9.txt'\n",
      " 'data/news_1135/Thời sự/1685c22515a25fba9cb08982400d44bb0ed2b5ec.txt'\n",
      " 'data/news_1135/Thể thao/6c07fd6ba0e30fd5e60ad7dc96c479561a9f6041.txt'\n",
      " 'data/news_1135/Thể thao/9a47041acdd07e1d1ed71d54972dc792a1eb79ae.txt'\n",
      " 'data/news_1135/Sức khỏe/ee0f1e4d1398774ed1c7649d97edd33d847b0056.txt'\n",
      " 'data/news_1135/Thể thao/8dc8df2d734a56b6b469bf280ac94a3469290df6.txt'\n",
      " 'data/news_1135/Sức khỏe/078192445fcfa9f6ad7966d9bb096d4538ca3e27.txt'\n",
      " 'data/news_1135/Sức khỏe/db6afde480374f121ec92c863a8d5a45906d7128.txt'\n",
      " 'data/news_1135/Thể thao/78482cc264a62bfec675ee08927d65d522ec7ecf.txt'\n",
      " 'data/news_1135/Thể thao/fe1ff0f86a7e6b82ad69ab8cd029961268ca3b0f.txt'\n",
      " 'data/news_1135/Sức khỏe/b361fb7f77979922f4bbcfe9c9c8f7cee67c3b94.txt'\n",
      " 'data/news_1135/Sức khỏe/2541b0f8349c824e1fb19b2150d71a88d0be5cfc.txt'\n",
      " 'data/news_1135/Thể thao/6a5ce046e5e47383ee79984a4145bef9ed23a24d.txt'\n",
      " 'data/news_1135/Thể thao/0c28b82392288de2c9834033383d665e9873317c.txt'\n",
      " 'data/news_1135/Thời sự/067759e9ff11ce9ce15f1268cbb0b51db507cfe4.txt'\n",
      " 'data/news_1135/Thời sự/0e0f38a472c34ba84ccb56d740fab4ee61e0242e.txt'\n",
      " 'data/news_1135/Thể thao/45e9d3aaf0a737ba61ce859ca22b78efa063ec74.txt'\n",
      " 'data/news_1135/Thể thao/f20ae72e0c13dc72b4eda7cbf6f8d9ff7d06c099.txt'\n",
      " 'data/news_1135/Thể thao/dba4bca57e2466fcb585e0690bf5c9c616af755b.txt'\n",
      " 'data/news_1135/Thể thao/349d3928c3f2b45680305dec2d71fccef49680a9.txt'\n",
      " 'data/news_1135/Sức khỏe/0c793f78b653ec265aa155f662a24ced5df9102b.txt'\n",
      " 'data/news_1135/Thể thao/2ace96fb4845fd83a1ebc1da6102d8c99cc0af79.txt'\n",
      " 'data/news_1135/Thể thao/72d833f05d8ff6ac2e9391f8891f69518ba1a264.txt'\n",
      " 'data/news_1135/Thể thao/f9ee38654e124da98fa0481a9de25fb87f39a8d0.txt'\n",
      " 'data/news_1135/Thời sự/05b1594fb5dcab9374de9d1728e31abd4040a91a.txt'\n",
      " 'data/news_1135/Sức khỏe/c82b3d1de545896821e672e0dcdd133ce9d7c506.txt'\n",
      " 'data/news_1135/Thể thao/4a1d69a6252464ea63fba507c4c10785c2cdf8ec.txt'\n",
      " 'data/news_1135/Sức khỏe/065cce8fbcdcb7df6941f23f515874f868ed501a.txt'\n",
      " 'data/news_1135/Thể thao/2bb8253b9960a705b81a9be46d37723f98a86c41.txt'\n",
      " 'data/news_1135/Thể thao/2d4a4181650a41cadd32d343f1e40ae02fedceb4.txt'\n",
      " 'data/news_1135/Sức khỏe/ff31b022e9694233e440ddcbce849c4f6a6b06e5.txt'\n",
      " 'data/news_1135/Sức khỏe/bfd048f90b73b4fa7b520bd8147844b6e9d87f28.txt'\n",
      " 'data/news_1135/Sức khỏe/be5e56ec476497721af041f6ec1f95df8f4e0046.txt'\n",
      " 'data/news_1135/Thể thao/1d888304d2cb930bb1aefc7da58483fe6e1e208f.txt'\n",
      " 'data/news_1135/Thời sự/186d19e79ffef4e039e5fd01090af06f5beb6cc0.txt'\n",
      " 'data/news_1135/Sức khỏe/492deb451fbb48e185a9adb0ece86f24721f1f3a.txt'\n",
      " 'data/news_1135/Thể thao/10b0aca26de4519e692860f651b2c72753c612b7.txt'\n",
      " 'data/news_1135/Thể thao/36d8f1e9a630a339b20ac2a1823cac154da4380e.txt'\n",
      " 'data/news_1135/Thể thao/6ca63d3017d501b65dc8c438f2b9f0cf110a5a40.txt'\n",
      " 'data/news_1135/Thể thao/ce972369134108f061b52e854de4c78a6dc24121.txt'\n",
      " 'data/news_1135/Thời sự/19d1394559552a4656fe735d26eeb214a0195a1e.txt'\n",
      " 'data/news_1135/Sức khỏe/1e040b866160284a0c17adda24fce76a89a6a18a.txt'\n",
      " 'data/news_1135/Sức khỏe/fe60e2173b2aef20ee748633081155b48ff6c639.txt'\n",
      " 'data/news_1135/Thể thao/1c9c73cacf403879f7928e12190727f2ad02bab1.txt'\n",
      " 'data/news_1135/Thể thao/5b4386ce4297a3aa86d56bffee5bc018ab95f124.txt'\n",
      " 'data/news_1135/Thể thao/feffbcecefcd20e514a9da8039d282d32a62200b.txt'\n",
      " 'data/news_1135/Thể thao/b0220b94e499ed4503bb7486a718e2158781275d.txt'\n",
      " 'data/news_1135/Thể thao/dcc27fbdfa228f5c9cad4a41a393dca34b4d53c5.txt'\n",
      " 'data/news_1135/Thể thao/d44ec865976267f237f4c1d59571c2b97ea10b99.txt'\n",
      " 'data/news_1135/Thời sự/1a756cf2aa7609554271088b3008f9bcffdce664.txt'\n",
      " 'data/news_1135/Thể thao/28d529b8e87846824f76b5b3a77a76dc9eb7b207.txt'\n",
      " 'data/news_1135/Thể thao/e16ef8d6979ab0cc1c2a8694fe1aac543ee7a5af.txt'\n",
      " 'data/news_1135/Sức khỏe/27fc274930d84bb9fe38abbb762bc08bd27c1464.txt'\n",
      " 'data/news_1135/Thể thao/56534be658d47deff97096b81d1ab65a14413df9.txt'\n",
      " 'data/news_1135/Thể thao/37dc360305e4de93059d33def3cae49e023c5cf7.txt'\n",
      " 'data/news_1135/Sức khỏe/700030b85243dc4e6f0c2a57d5027771f471a067.txt'\n",
      " 'data/news_1135/Sức khỏe/d693533870ff41103fa37a5061581412726805d4.txt'\n",
      " 'data/news_1135/Sức khỏe/f76c14b3f643cb2494683bfb1758493f090abe85.txt'\n",
      " 'data/news_1135/Sức khỏe/0748735478fff881281d124207782e3ee26aa3ca.txt'\n",
      " 'data/news_1135/Thể thao/5a4f35112309b49fba4b40125c2ffc2e3bc17693.txt'\n",
      " 'data/news_1135/Thể thao/c8834cc95b390c39775d63b41368607b3721f74b.txt'\n",
      " 'data/news_1135/Sức khỏe/a6385c20ad0fdf602dcca708fc3f781840bf33d6.txt'\n",
      " 'data/news_1135/Thể thao/3b24f28b35d9a71e795f61740e3a70ae16d397fe.txt'\n",
      " 'data/news_1135/Thể thao/715fbb01ba82d76868e04c5288eb1b20e6ec1bc3.txt'\n",
      " 'data/news_1135/Thể thao/e7748744f2c8ed82e2dcbe610d6fc28e94b20912.txt'\n",
      " 'data/news_1135/Sức khỏe/3ecd612a90cf25f2bfbbef6cd1b46774f24cbe13.txt'\n",
      " 'data/news_1135/Sức khỏe/796cdde1c2b062e43e414d1d6439ee23a69b16bd.txt'\n",
      " 'data/news_1135/Thể thao/72b3e7b65df0429ee2050ca715cbfbe421489cfd.txt'\n",
      " 'data/news_1135/Sức khỏe/ce639bd9974dee8cd7b3c2164e04f9336902d9e5.txt'\n",
      " 'data/news_1135/Thể thao/a1865d54915678d207630d9f2acaf20f5fa68d4b.txt'\n",
      " 'data/news_1135/Thể thao/b3894c28cc78c737a55f3ba1eb2cbc0f022a4315.txt'\n",
      " 'data/news_1135/Thể thao/6792c8c973fffde52c55a86a5a9abcf7a371932f.txt'\n",
      " 'data/news_1135/Sức khỏe/6faffd2aa03c8bebf5248117bc668a84c4aae4d4.txt'\n",
      " 'data/news_1135/Sức khỏe/62a5799ef50a9a47dcf17665e0516371593bdcb6.txt'\n",
      " 'data/news_1135/Thể thao/4cf051d705d4ac4914783e8fff3c3a6bde457446.txt'\n",
      " 'data/news_1135/Thể thao/a154b3b4f333739e85f847ded25fcf1d69270733.txt'\n",
      " 'data/news_1135/Thể thao/931ce0fdf286bf5fb3b1d034c9f5849d50ec56ae.txt'\n",
      " 'data/news_1135/Sức khỏe/65b86a10cb99c7863b9dffc5e19dfd09f6725308.txt'\n",
      " 'data/news_1135/Thể thao/d0766310fe33eb60c05419fefa44f439926b3431.txt'\n",
      " 'data/news_1135/Thể thao/66d8b419ac83e188849948205277510bdf2fce17.txt'\n",
      " 'data/news_1135/Thể thao/f14a79ea3c0e4f13afecde4513e3609a9771eb89.txt'\n",
      " 'data/news_1135/Sức khỏe/6b00807477375b0b34e03070c5fc11793610c4b5.txt'\n",
      " 'data/news_1135/Thể thao/a663ffdc3ceea4adde0056650ee5639b606fa0ff.txt'\n",
      " 'data/news_1135/Thể thao/7cc09b2a8417da8c0131dbd40d868dd33bf7fb23.txt'\n",
      " 'data/news_1135/Thể thao/d563d0fcdceae7a0b887ab8772866ba715d1723a.txt'\n",
      " 'data/news_1135/Thể thao/8f09e7eb2471b190110c15d66d40a685edfa60e5.txt'\n",
      " 'data/news_1135/Sức khỏe/633ba06b9f35be07e25606490e798c5f5117f3e3.txt'\n",
      " 'data/news_1135/Thể thao/bf151a48eb8fc6b7a608c62a59c1af39eecd6dc4.txt'\n",
      " 'data/news_1135/Thể thao/36b96dac2c27a51ed53f03a1278b552e546e83a7.txt'\n",
      " 'data/news_1135/Thể thao/150ddfc196fa92bd1e644b063a0811a7773c81c2.txt'\n",
      " 'data/news_1135/Thời sự/181b05896a852f8174b649611dae26ee4efba75f.txt'\n",
      " 'data/news_1135/Thể thao/ba45677ae82848b677ba7a2dc0d8ff4ba4ed0293.txt'\n",
      " 'data/news_1135/Thể thao/12abf8f4465a472cc44974cc63a4ca7d3306f9b8.txt'\n",
      " 'data/news_1135/Thể thao/4d1c211f6f982d2218b352599d0db45fb891ee03.txt'\n",
      " 'data/news_1135/Thể thao/8f40dd8e62eaef67769c159913c6947dbe373bf1.txt'\n",
      " 'data/news_1135/Thời sự/0dba5e684e3293810cce1982f68e9b5f2b1ccdae.txt'\n",
      " 'data/news_1135/Thể thao/0bef1954a952989e45eb00b087a5316904bef238.txt'\n",
      " 'data/news_1135/Thể thao/0fece90b645144364fa1787922295c50cfaa47b5.txt'\n",
      " 'data/news_1135/Sức khỏe/53654b474430467045e427a76b986175a75d59ec.txt'\n",
      " 'data/news_1135/Thể thao/a1b1ed7aa618192e7a87d2b3be66aac34281bad2.txt'\n",
      " 'data/news_1135/Thể thao/145b46ca8dadf86190c652dbdf6f33b31688019e.txt'\n",
      " 'data/news_1135/Thời sự/00ffef50901b539f9039dca10fda248a313e44b3.txt'\n",
      " 'data/news_1135/Thể thao/b46d75fac8bd8deb728534ec8d74b90d3975dce5.txt'\n",
      " 'data/news_1135/Thời sự/01a77203cd131e050a0119b2b5e645db8df50746.txt'\n",
      " 'data/news_1135/Sức khỏe/81e40e473c417514b92a760eda88738d83bd2c3a.txt'\n",
      " 'data/news_1135/Thể thao/e72837ae1012b4f1caa841c3000cdc8c1cf176e1.txt'\n",
      " 'data/news_1135/Sức khỏe/daf0c96e1003b53a7b32add91c3138a3c9f57892.txt'\n",
      " 'data/news_1135/Thể thao/7adaf0c561796f2411340150f18417543ad4403c.txt'\n",
      " 'data/news_1135/Thể thao/21f577b9c57253e056e50ecb1e7936c6d1bc8bb4.txt'\n",
      " 'data/news_1135/Thể thao/0236f462de2beb1f9dcca27a747b57ffe5e54fc1.txt'\n",
      " 'data/news_1135/Thể thao/203ceba079147c5e7f69115298994e6b0405c8c7.txt'\n",
      " 'data/news_1135/Sức khỏe/7180ee66467f8a703ab4e1bd92e3da0efde8c662.txt'\n",
      " 'data/news_1135/Sức khỏe/43b45beb5f82fa0dcfc228bd78d287a26a251026.txt'\n",
      " 'data/news_1135/Thời sự/012332fa5d590a5287c1d1474badf0cde6e06ff4.txt'\n",
      " 'data/news_1135/Sức khỏe/24d8b5d4da12965376cc879458b201e7e6dc6c22.txt'\n",
      " 'data/news_1135/Thể thao/38f6ec7fc74ffa9e93bee2c6fbf809838fc5e02c.txt'\n",
      " 'data/news_1135/Thể thao/e78ef641b159653587e011d5929935b33e78c8d8.txt'\n",
      " 'data/news_1135/Sức khỏe/fcb50b8cc6048dc51090cb8f3f8c143f2c26a3d7.txt'\n",
      " 'data/news_1135/Thể thao/e3b6d4ddaf1052c883dee760426e7486e00d149c.txt'\n",
      " 'data/news_1135/Thể thao/531b4f65e28b6c6a29910d7b84c1ad17bf76717a.txt'\n",
      " 'data/news_1135/Sức khỏe/bd9a58eb28b071e6c0a51578d5b544699bae1ff7.txt'\n",
      " 'data/news_1135/Thể thao/b2ee48d1298e9ef247f81781add7f2892f54a2c5.txt']\n",
      "\n",
      "Tong so file: 224\n",
      "Danh sách nhãn và id tương ứng:  [(0, 'Giải trí'), (1, 'Khoa học - Công nghệ'), (2, 'Kinh tế'), (3, 'Pháp luật'), (4, 'Sức khỏe'), (5, 'Thể thao'), (6, 'Thời sự')]\n"
     ]
    }
   ],
   "source": [
    "data_train = load_files(container_path=\"data/news_1135/\", encoding=\"utf-8\")\n",
    "\n",
    "print(data_train.filenames)\n",
    "print()\n",
    "\n",
    "print(\"Tong so file: {}\" .format( len(data_train.filenames)))\n",
    "print(\"Danh sách nhãn và id tương ứng: \", [(idx, name) for idx, name in enumerate(data_train.target_names)] )\n"
   ]
  },
  {
   "cell_type": "code",
   "execution_count": 14,
   "metadata": {
    "colab": {
     "base_uri": "https://localhost:8080/"
    },
    "executionInfo": {
     "elapsed": 63,
     "status": "ok",
     "timestamp": 1630408897606,
     "user": {
      "displayName": "Quyen Tran",
      "photoUrl": "https://lh3.googleusercontent.com/a-/AOh14GhoMMy50mqj9WbAat9Z4itNZ14utD-jBkhGuYfk=s64",
      "userId": "15840549449197934767"
     },
     "user_tz": -420
    },
    "id": "JA2ZGlfykebo",
    "outputId": "326d7774-0255-463a-dccb-5e1f6aca6e67"
   },
   "outputs": [
    {
     "name": "stdout",
     "output_type": "stream",
     "text": [
      "- Noi dung cua van ban dau tien: Dân_trí Sáng 5/12 , giải quần_vợt các tay_vợt xuất_sắc Việt_Nam - Cúp Vietravel 2016 đã chính_thức khai_mạc tại TP Vinh - Nghệ_An . Tham_dự giải hơn 30 tay_vợt xuất_sắc nhất của Liên_đoàn quần_vợt Việt_Nam . Dự lễ khai_mạc có ông Nguyễn Trọng Hổ - Vụ_trưởng Vụ thể_thao thành_tích cao II ; Đoàn Quốc Cường - Trưởng bộ_môn quần_vợt Liên_đoàn quần_vợt Việt_Nam ; Nguyễn Quốc Kỳ - Tổng_Giám_đốc Viettravel , Phó_Chủ_tịch kiêm Tổng_thư_ký Liên_đoàn quần_vợt Việt_Nam cùng lãnh_đạo tỉnh Nghệ_An . Giải quần_vợt các cây_vợt xuất_sắc Việt_Nam - Cup Vietravel 2016 do Liên_đoàn Quần_vợt Việt_Nam VTF phối_hợp với Sở VH - TT - DL và Liên_đoàn quần_vợt Nghệ_An NTF tổ_chức ; là giải đấu chuyên_nghiệp quốc_gia lần đầu_tiên được tổ_chức tại Nghệ_An . Ông Nguyễn Quốc Kỳ - PCT kiêm TTK Liên_đoàn quần_vợt Việt_Nam Tham_gia giải lần này có 22 VĐV nam , 9 VĐV nữ có điểm xếp_hạng cao nhất của bộ_môn quần_vợt chuyên_nghiệp , đến từ các trung_tâm quần_vợt lớn trong cả nước như : Thành_phố Hồ Chí Minh ; Bình_Dương ; Hà_Nội , Đà_Nẵng ... Trong đó , những tên_tuổi lớn của làng quần_vợt chuyên_nghiệp Việt_Nam như : Lý Hoàng Nam ; Phạm Minh Tuấn ; Hoàng Thành_Trung ; Trịnh Linh Giang ; Trần Thị Tâm Hảo ; Nguyễn Thị Bé Xuyên ... Các VĐV thi_đấu ở 4 nội_dung gồm : Đơn_nam ; đôi_nam ; đơn_nữ và đôi_nữ theo thể_thức đấu_loại trực_tiếp . Giải đấu là dịp để khích_lệ phong_trào tập_luyện môn Tennis trên địa_bàn tỉnh , là cơ_sở để Nghệ_An hướng đến tổ_chức những giải đấu lớn của quần_vợt chuyên_nghiệp Việt_Nam trong thời_gian tới ; góp_phần quảng_bá hình_ảnh quê_hương Nghệ_An đến với khán_giả cả nước . Phát_biểu tại lễ khai_mạc , ông Huỳnh Thanh_Điền - Phó_Chủ_tịch UBND tỉnh Nghệ_An khẳng_định : Giải quần_vợt các cây_vợt xuất_sắc Việt_Nam Cúp Vietravel 2016 lần đầu_tiên được tổ_chức tại Nghệ_An là bước_tiến mới của phong_trào phát_triển môn quần_vợt tại tỉnh Nghệ_An . Đây là dịp để góp_phần quảng_bá hình_ảnh quê_hương Chủ_tịch Hồ Chí Minh đến với khán_giả cả nước . Giải đấu cũng là cơ_hội rất tốt để Liên_đoàn quần_vợt Nghệ_An ( NTF ) nâng_cao vị_thế của mình trong làng quần_vợt cả nước . Giải Quần_vợt các cây_vợt xuất_sắc Việt_Nam Cúp Vietravel 2016 khởi tranh vòng đấu bảng vào ngày 5-10 / 12 tại sân CLB Trường_Sơn , TP Vinh . Tổng_giá_trị tiền_thưởng lên tới trên 300 triệu đồng . Dịp này , Ban tổ_chức giải đã trao 10 triệu đồng ủng_hộ Trung_tâm bảo_trợ xã_hội tỉnh Nghệ_An . Nguyễn Duy\n",
      "\n",
      "- Nhan cua van ban dau tien: Giải trí\n"
     ]
    }
   ],
   "source": [
    "### bài tập ### \n",
    "# yêu cầu: Hiển thị nội dung, và nhãn của văn bản đầu tiên trong tập train. \n",
    "# gợi ý: tự làm.  \n",
    "###############\n",
    "# code \n",
    "\n",
    "print('- Noi dung cua van ban dau tien:', data_train.data[0])\n",
    "print()\n",
    "\n",
    "print('- Nhan cua van ban dau tien:', end=' ')\n",
    "print(data_train.target_names[0])\n",
    "\n",
    "###############"
   ]
  },
  {
   "cell_type": "markdown",
   "metadata": {
    "id": "XV0pQNzBkebp"
   },
   "source": [
    "##  Tiền xử lý dữ liệu đưa dữ liệu từ dạng text về dạng ma trận \n",
    "\n",
    "- Thử nghiệm để kiểm tra hoạt động chuyển hoá dữ liệu về dạng ma trận "
   ]
  },
  {
   "cell_type": "code",
   "execution_count": 15,
   "metadata": {
    "colab": {
     "base_uri": "https://localhost:8080/"
    },
    "executionInfo": {
     "elapsed": 572,
     "status": "ok",
     "timestamp": 1630408898160,
     "user": {
      "displayName": "Quyen Tran",
      "photoUrl": "https://lh3.googleusercontent.com/a-/AOh14GhoMMy50mqj9WbAat9Z4itNZ14utD-jBkhGuYfk=s64",
      "userId": "15840549449197934767"
     },
     "user_tz": -420
    },
    "id": "SS12JkxRkebp",
    "outputId": "f7a8fae8-4028-466e-84b4-110bef871cee",
    "scrolled": true
   },
   "outputs": [
    {
     "name": "stdout",
     "output_type": "stream",
     "text": [
      "Danh sách 10 từ dừng đầu tiên (từ không mang ý nghĩa phân loại):  ['a_lô', 'a_ha', 'ai', 'ai_ai', 'ai_nấy', 'ai_đó', 'alô', 'amen', 'anh', 'anh_ấy']\n",
      "\n",
      "10 từ đầu tiên trong từ điển:\n",
      "\n",
      "1 :  ('dân_trí', 1910)\n",
      "2 :  ('12', 31)\n",
      "3 :  ('giải', 2248)\n",
      "4 :  ('quần_vợt', 5047)\n",
      "5 :  ('tay_vợt', 5655)\n",
      "6 :  ('xuất_sắc', 7201)\n",
      "7 :  ('việt_nam', 6947)\n",
      "8 :  ('cúp', 1574)\n",
      "9 :  ('vietravel', 6912)\n",
      "10 :  ('2016', 124)\n",
      "11 :  ('chính_thức', 1196)\n",
      "\n"
     ]
    }
   ],
   "source": [
    "# load dữ liệu các stopwords \n",
    "with open(\"data/vietnamese-stopwords.txt\",encoding=\"utf8\") as f:\n",
    "    stopwords = f.readlines()\n",
    "stopwords = [x.strip().replace(\" \", \"_\") for x in stopwords] \n",
    "print(\"Danh sách 10 từ dừng đầu tiên (từ không mang ý nghĩa phân loại): \", stopwords[:10])\n",
    "print()\n",
    "\n",
    "# \n",
    "# Transforming data \n",
    "# Chuyển hoá dữ liệu text về dạng vector tfidf \n",
    "#     - loại bỏ từ dừng\n",
    "#     - sinh từ điển\n",
    "module_count_vector = CountVectorizer(stop_words=stopwords)\n",
    "model_rf_preprocess = Pipeline([('vect', module_count_vector),\n",
    "                    ('tfidf', TfidfTransformer()),\n",
    "                    ])\n",
    "# Hàm thực hiện chuyển đổi dữ liệu text thành dữ liệu số dạng ma trận \n",
    "# Input: Dữ liệu 2 chiều dạng numpy.array, mảng nhãn id dạng numpy.array \n",
    "\n",
    "# Tiền xử lý với Bag of words\n",
    "data_bow = module_count_vector.fit_transform(data_train.data, data_train.target)\n",
    "# Tiền xử lý với TF-IDF\n",
    "data_tfidf = model_rf_preprocess.fit_transform(data_train.data, data_train.target)\n",
    "\n",
    "print(\"10 từ đầu tiên trong từ điển:\\n\")\n",
    "i = 0\n",
    "for k,v in module_count_vector.vocabulary_.items():\n",
    "    i+=1\n",
    "    print(i, \": \", (k, v))\n",
    "    if i > 10:\n",
    "        break \n",
    "print()"
   ]
  },
  {
   "cell_type": "markdown",
   "metadata": {
    "id": "bqwgTiUNkebq"
   },
   "source": [
    "## Chia dữ liệu làm 2 phần training và testing \n",
    "\n",
    "- Training chiếm 80 % dữ liệu \n",
    "- Testing chiếm 20 % dữ liệu "
   ]
  },
  {
   "cell_type": "code",
   "execution_count": 16,
   "metadata": {
    "colab": {
     "base_uri": "https://localhost:8080/"
    },
    "executionInfo": {
     "elapsed": 85,
     "status": "ok",
     "timestamp": 1630408898161,
     "user": {
      "displayName": "Quyen Tran",
      "photoUrl": "https://lh3.googleusercontent.com/a-/AOh14GhoMMy50mqj9WbAat9Z4itNZ14utD-jBkhGuYfk=s64",
      "userId": "15840549449197934767"
     },
     "user_tz": -420
    },
    "id": "L59agolRkebq",
    "outputId": "934cf45b-e075-417f-e36d-ff72c12e4a8c"
   },
   "outputs": [
    {
     "name": "stdout",
     "output_type": "stream",
     "text": [
      "Dữ liệu training =  (179, 7972) (179,)\n",
      "Dữ liệu testing =  (45, 7972) (45,)\n",
      "\n",
      "Danh sách nhãn và id tương ứng:  [(0, 'Giải trí'), (1, 'Khoa học - Công nghệ'), (2, 'Kinh tế'), (3, 'Pháp luật'), (4, 'Sức khỏe'), (5, 'Thể thao'), (6, 'Thời sự')]\n"
     ]
    }
   ],
   "source": [
    "from sklearn.model_selection import train_test_split\n",
    "\n",
    "# chia dữ liệu thành 2 phần sử dụng hàm train_test_split.\n",
    "test_size = 0.2\n",
    "# Bow\n",
    "X_train_bow, X_test_bow, y_train_bow, y_test_bow = train_test_split(data_bow, data_train.target, test_size=test_size, random_state=30)\n",
    "# Tf-idf\n",
    "X_train_tfidf, X_test_tfidf, y_train_tfidf, y_test_tfidf = train_test_split(data_tfidf, data_train.target, test_size=test_size, random_state=30)\n",
    "\n",
    "\n",
    "# hiển thị một số thông tin về dữ liệu \n",
    "print(\"Dữ liệu training = \", X_train_bow.shape, y_train_bow.shape)\n",
    "print(\"Dữ liệu testing = \", X_test_bow.shape, y_test_bow.shape)\n",
    "\n",
    "print() \n",
    "print(\"Danh sách nhãn và id tương ứng: \", [(idx, name) for idx, name in enumerate(data_train.target_names)] )"
   ]
  },
  {
   "cell_type": "code",
   "execution_count": 17,
   "metadata": {
    "colab": {
     "base_uri": "https://localhost:8080/"
    },
    "executionInfo": {
     "elapsed": 70,
     "status": "ok",
     "timestamp": 1630408898162,
     "user": {
      "displayName": "Quyen Tran",
      "photoUrl": "https://lh3.googleusercontent.com/a-/AOh14GhoMMy50mqj9WbAat9Z4itNZ14utD-jBkhGuYfk=s64",
      "userId": "15840549449197934767"
     },
     "user_tz": -420
    },
    "id": "8XlfkQfPkebr",
    "outputId": "9279f63f-9be8-4126-c3ec-1ad47281c988"
   },
   "outputs": [
    {
     "name": "stdout",
     "output_type": "stream",
     "text": [
      "ID | Label name                                   \n",
      " 5 | Giải trí                                   \n",
      " 5 | Khoa học - Công nghệ                     \n",
      " 5 | Kinh tế                                    \n",
      " 5 | Pháp luật                                 \n",
      " 5 | Sức khỏe                                  \n"
     ]
    }
   ],
   "source": [
    "### bài tập ### \n",
    "# yêu cầu: Hiển thị ra id, tên nhãn của 5 văn bản đầu tiên trong tập train. \n",
    "# gợi ý: lấy dữ liệu id từ biến y_train, mapping với thứ tự nằm trong mảng data_train.target_names\n",
    "###############\n",
    "# code \n",
    "\n",
    "print('{:2} | {:45}'.format('ID', 'Label name'))\n",
    "for i in range(5):\n",
    "  print('{:2} | {:45}'.format(data_train.target[i], data_train.target_names[i]))\n",
    "\n",
    "\n",
    "###############"
   ]
  },
  {
   "cell_type": "markdown",
   "metadata": {
    "id": "Z3PR74Afkebs"
   },
   "source": [
    "## Training Naive Bayes model \n",
    "\n",
    "Sử dụng thư viện sklearn để xây dựng 2 mô hình \n",
    "- `naive_bayes.MultinomialNB(alpha= 0.1)`: giá trị làm mịn alpha= 0.1\n",
    "- `naive_bayes.GaussianNB()`"
   ]
  },
  {
   "cell_type": "markdown",
   "metadata": {
    "id": "yXT1bxAgrQEc"
   },
   "source": [
    "### Multinomial Naive Bayes\n",
    "- Sử dụng Bag of words"
   ]
  },
  {
   "cell_type": "code",
   "execution_count": 18,
   "metadata": {
    "colab": {
     "base_uri": "https://localhost:8080/"
    },
    "executionInfo": {
     "elapsed": 59,
     "status": "ok",
     "timestamp": 1630408898164,
     "user": {
      "displayName": "Quyen Tran",
      "photoUrl": "https://lh3.googleusercontent.com/a-/AOh14GhoMMy50mqj9WbAat9Z4itNZ14utD-jBkhGuYfk=s64",
      "userId": "15840549449197934767"
     },
     "user_tz": -420
    },
    "id": "kByo28zMkebt",
    "outputId": "7f7979f4-1a85-430a-872f-59fe2abf5602"
   },
   "outputs": [
    {
     "name": "stdout",
     "output_type": "stream",
     "text": [
      "- Training ...\n",
      "- Train size = (179, 7972)\n",
      "- model_MNB - train complete\n"
     ]
    }
   ],
   "source": [
    "print(\"- Training ...\")\n",
    "\n",
    "\n",
    "# X_train.shape\n",
    "print(\"- Train size = {}\".format(X_train_bow.shape))\n",
    "model_MNB = naive_bayes.MultinomialNB(alpha= 0.1)\n",
    "model_MNB.fit(X_train_bow, y_train_bow)\n",
    "\n",
    "print(\"- model_MNB - train complete\")\n"
   ]
  },
  {
   "cell_type": "markdown",
   "metadata": {
    "id": "b3gx2ZUNr0fh"
   },
   "source": [
    "### 2.2. Gaussian Naive Bayes\n",
    "- Sử dụng TF-IDF"
   ]
  },
  {
   "cell_type": "code",
   "execution_count": 19,
   "metadata": {
    "colab": {
     "base_uri": "https://localhost:8080/"
    },
    "executionInfo": {
     "elapsed": 53,
     "status": "ok",
     "timestamp": 1630408898169,
     "user": {
      "displayName": "Quyen Tran",
      "photoUrl": "https://lh3.googleusercontent.com/a-/AOh14GhoMMy50mqj9WbAat9Z4itNZ14utD-jBkhGuYfk=s64",
      "userId": "15840549449197934767"
     },
     "user_tz": -420
    },
    "id": "PXs7PcZpr7oV",
    "outputId": "2de8a547-38c0-4208-a395-b134802be4b6"
   },
   "outputs": [
    {
     "name": "stdout",
     "output_type": "stream",
     "text": [
      "- Training ...\n",
      "- Train size = (179, 7972)\n",
      "- model_GNB - train complete\n"
     ]
    }
   ],
   "source": [
    "### bài tập ### \n",
    "# yêu cầu: huấn luyện một mô hình Gaussian Naive Bayes tương tự như trên\n",
    "# gợi ý: naive_bayes.GaussianNB(var_smoothing=1e-3)\n",
    "###############\n",
    "# code \n",
    "\n",
    "print(\"- Training ...\")\n",
    "\n",
    "\n",
    "# X_train.shape\n",
    "print(\"- Train size = {}\".format(X_train_tfidf.shape))\n",
    "\n",
    "model_GNB = naive_bayes.GaussianNB(var_smoothing=1e-3)\n",
    "model_GNB.fit(X_train_tfidf.toarray(), y_train_tfidf)\n",
    "\n",
    "print(\"- model_GNB - train complete\")\n",
    "###################"
   ]
  },
  {
   "cell_type": "markdown",
   "metadata": {
    "id": "IN11fsCy9JQv"
   },
   "source": [
    "## Testing Naive Bayes model \n",
    "\n",
    "\n",
    "Thực hiện dự đoán nhãn cho từng văn bản trong tập test \n",
    "\n",
    "Độ đo đánh giá: \n",
    "> accuracy = tổng số văn bản dự đoán đúng  / tổng số văn bản có trong tập test  "
   ]
  },
  {
   "cell_type": "code",
   "execution_count": 20,
   "metadata": {
    "executionInfo": {
     "elapsed": 48,
     "status": "ok",
     "timestamp": 1630408898171,
     "user": {
      "displayName": "Quyen Tran",
      "photoUrl": "https://lh3.googleusercontent.com/a-/AOh14GhoMMy50mqj9WbAat9Z4itNZ14utD-jBkhGuYfk=s64",
      "userId": "15840549449197934767"
     },
     "user_tz": -420
    },
    "id": "J-97FYLe9JQw"
   },
   "outputs": [],
   "source": [
    "# Sử dụng thư viện tính accuracy_score trong sklearn\n",
    "from sklearn.metrics import accuracy_score"
   ]
  },
  {
   "cell_type": "code",
   "execution_count": 21,
   "metadata": {
    "colab": {
     "base_uri": "https://localhost:8080/"
    },
    "executionInfo": {
     "elapsed": 47,
     "status": "ok",
     "timestamp": 1630408898171,
     "user": {
      "displayName": "Quyen Tran",
      "photoUrl": "https://lh3.googleusercontent.com/a-/AOh14GhoMMy50mqj9WbAat9Z4itNZ14utD-jBkhGuYfk=s64",
      "userId": "15840549449197934767"
     },
     "user_tz": -420
    },
    "id": "vF-jd2mv9JQw",
    "outputId": "14f560a9-1205-4866-fa3e-31b954521b8b"
   },
   "outputs": [
    {
     "name": "stdout",
     "output_type": "stream",
     "text": [
      "- Testing ...\n",
      "- Acc = 0.9555555555555556\n"
     ]
    }
   ],
   "source": [
    "print(\"- Testing ...\")\n",
    "y_pred_bow = model_MNB.predict(X_test_bow)\n",
    "print(\"- Acc = {}\".format(accuracy_score(y_test_bow, y_pred_bow)))"
   ]
  },
  {
   "cell_type": "code",
   "execution_count": 22,
   "metadata": {
    "colab": {
     "base_uri": "https://localhost:8080/"
    },
    "executionInfo": {
     "elapsed": 44,
     "status": "ok",
     "timestamp": 1630408898172,
     "user": {
      "displayName": "Quyen Tran",
      "photoUrl": "https://lh3.googleusercontent.com/a-/AOh14GhoMMy50mqj9WbAat9Z4itNZ14utD-jBkhGuYfk=s64",
      "userId": "15840549449197934767"
     },
     "user_tz": -420
    },
    "id": "GWgRZwL5t5FS",
    "outputId": "d5f7f1a4-6e2d-4a5f-a27b-ff49baae1470"
   },
   "outputs": [
    {
     "name": "stdout",
     "output_type": "stream",
     "text": [
      "- Testing ...\n",
      "- Acc = 0.9555555555555556\n"
     ]
    }
   ],
   "source": [
    "#Test tương tự cho GNB?\n",
    "print(\"- Testing ...\")\n",
    "y_pred_tfidf = model_GNB.predict(X_test_tfidf.toarray())\n",
    "print(\"- Acc = {}\".format(accuracy_score(y_test_tfidf, y_pred_tfidf)))"
   ]
  },
  {
   "cell_type": "markdown",
   "metadata": {
    "id": "wJOCiVq_kebw"
   },
   "source": [
    "## 5. Thực hiện sử dụng model đã được train để infer 1 văn bản mới \n",
    "- Dữ liệu mới đến ở dạng dữ liệu thô => cần tiền xử lý dữ liệu về dạng dữ_liệu_ma_trận\n",
    "- infer sử dụng hàm model.predict(dữ_liệu_ma_trận) "
   ]
  },
  {
   "cell_type": "code",
   "execution_count": 23,
   "metadata": {
    "colab": {
     "base_uri": "https://localhost:8080/"
    },
    "executionInfo": {
     "elapsed": 41,
     "status": "ok",
     "timestamp": 1630408898174,
     "user": {
      "displayName": "Quyen Tran",
      "photoUrl": "https://lh3.googleusercontent.com/a-/AOh14GhoMMy50mqj9WbAat9Z4itNZ14utD-jBkhGuYfk=s64",
      "userId": "15840549449197934767"
     },
     "user_tz": -420
    },
    "id": "fxxeXRrm9JQx",
    "outputId": "918e2de5-9e99-404d-9669-4f9e5449326e"
   },
   "outputs": [
    {
     "name": "stdout",
     "output_type": "stream",
     "text": [
      "Trường đại_học bách_khoa hà_nội\n"
     ]
    }
   ],
   "source": [
    "a = ViTokenizer.tokenize(\"Trường đại học bách khoa hà nội\")\n",
    "print(a)"
   ]
  },
  {
   "cell_type": "code",
   "execution_count": 24,
   "metadata": {
    "colab": {
     "base_uri": "https://localhost:8080/"
    },
    "executionInfo": {
     "elapsed": 39,
     "status": "ok",
     "timestamp": 1630408898175,
     "user": {
      "displayName": "Quyen Tran",
      "photoUrl": "https://lh3.googleusercontent.com/a-/AOh14GhoMMy50mqj9WbAat9Z4itNZ14utD-jBkhGuYfk=s64",
      "userId": "15840549449197934767"
     },
     "user_tz": -420
    },
    "id": "F-eLhYlvkeby",
    "outputId": "0c19f40e-e115-4b36-f5d0-4dadceac96d3"
   },
   "outputs": [
    {
     "name": "stdout",
     "output_type": "stream",
     "text": [
      "Công Phượng ghi_bàn cho đội_tuyển Việt_Nam\n",
      "  (0, 1538)\t1\n",
      "  (0, 2177)\t1\n",
      "  (0, 4837)\t1\n",
      "  (0, 6947)\t1\n",
      "  (0, 7877)\t1\n",
      "\n",
      "Danh sách nhãn và id tương ứng:  [(0, 'Giải trí'), (1, 'Khoa học - Công nghệ'), (2, 'Kinh tế'), (3, 'Pháp luật'), (4, 'Sức khỏe'), (5, 'Thể thao'), (6, 'Thời sự')]\n"
     ]
    }
   ],
   "source": [
    "# tiền xử lý dữ liệu sử dụng module module_count_vector. \n",
    "van_ban_moi = ViTokenizer.tokenize(\"Công Phượng ghi bàn cho đội tuyển Việt Nam\")\n",
    "#van_ban_moi = [\"Công_phượng ghi_bàn cho đội_tuyển Việt_nam\"]\n",
    "print(van_ban_moi)\n",
    "input_data_preprocessed = module_count_vector.transform([van_ban_moi])\n",
    "print(input_data_preprocessed)\n",
    "\n",
    "print()\n",
    "print(\"Danh sách nhãn và id tương ứng: \", [(idx, name) for idx, name in enumerate(data_train.target_names)] )\n",
    "\n"
   ]
  },
  {
   "cell_type": "code",
   "execution_count": 30,
   "metadata": {
    "colab": {
     "base_uri": "https://localhost:8080/"
    },
    "executionInfo": {
     "elapsed": 587,
     "status": "ok",
     "timestamp": 1630409114287,
     "user": {
      "displayName": "Quyen Tran",
      "photoUrl": "https://lh3.googleusercontent.com/a-/AOh14GhoMMy50mqj9WbAat9Z4itNZ14utD-jBkhGuYfk=s64",
      "userId": "15840549449197934767"
     },
     "user_tz": -420
    },
    "id": "nVL21His9JQz",
    "outputId": "4be4fb0b-41a9-4f32-fe62-14f20c26a414"
   },
   "outputs": [
    {
     "name": "stdout",
     "output_type": "stream",
     "text": [
      "[5] Thể thao\n"
     ]
    }
   ],
   "source": [
    "### bài tập ### \n",
    "# yêu cầu: dự đoán nhãn của 1 văn bản mới. Sử dụng mô hình Multinomial NB\n",
    "# gợi ý: thực hiện code suy diễn mô hình từ tiền xử lý (bước 1) => infer (bước 4). (Chú ý: không training lại - ko gọi lại hàm fit.)  \n",
    "###############\n",
    "# code \n",
    "\n",
    "y_pred = model_MNB.predict(input_data_preprocessed)\n",
    "print(y_pred, data_train.target_names[y_pred[0]])\n",
    "\n",
    "###############"
   ]
  },
  {
   "cell_type": "markdown",
   "metadata": {
    "id": "6JUggDUZ9yDE"
   },
   "source": [
    "## Quan sát độ chính xác trên tập test của GNB khi thay đổi tham số var_smoothing"
   ]
  },
  {
   "cell_type": "code",
   "execution_count": 34,
   "metadata": {
    "colab": {
     "base_uri": "https://localhost:8080/",
     "height": 355
    },
    "executionInfo": {
     "elapsed": 901,
     "status": "ok",
     "timestamp": 1630409830442,
     "user": {
      "displayName": "Quyen Tran",
      "photoUrl": "https://lh3.googleusercontent.com/a-/AOh14GhoMMy50mqj9WbAat9Z4itNZ14utD-jBkhGuYfk=s64",
      "userId": "15840549449197934767"
     },
     "user_tz": -420
    },
    "id": "vmVcevE6-WtV",
    "outputId": "e03b97e7-58a4-475f-fd3e-07a79a7982e7"
   },
   "outputs": [
    {
     "name": "stdout",
     "output_type": "stream",
     "text": [
      "0.1 0.9555555555555556\n",
      "0.01 0.9555555555555556\n",
      "0.001 0.9555555555555556\n",
      "0.0001 0.9555555555555556\n",
      "1e-05 0.9555555555555556\n"
     ]
    },
    {
     "data": {
      "image/png": "[encoded data removed]",
      "text/plain": [
       "<Figure size 432x288 with 1 Axes>"
      ]
     },
     "metadata": {
      "needs_background": "light"
     },
     "output_type": "display_data"
    }
   ],
   "source": [
    "# code #####\n",
    "\n",
    "var_smoothings = [1e-1, 1e-2, 1e-3, 1e-4, 1e-5]\n",
    "accs = []\n",
    "\n",
    "for var_smoothing in var_smoothings:\n",
    "  model_GNB = naive_bayes.GaussianNB(var_smoothing=1e-3)\n",
    "  model_GNB.fit(X_train_tfidf.toarray(), y_train_tfidf)\n",
    "  \n",
    "  #Hoàn thiện thêm phần code ở đây để ghi nhận acc tương ứng trong từng trường hợp\n",
    "  y_pred_tfidf = model_GNB.predict(X_test_tfidf.toarray())\n",
    "  acc = accuracy_score(y_test_tfidf, y_pred_tfidf)\n",
    "  accs.append(acc)\n",
    "\n",
    "#Minh họa tương quan bằng đồ thị::\n",
    "#Gợi ý: barplot, lineplot, ...\n",
    "\n",
    "import seaborn as sns\n",
    "sns.lineplot(x=var_smoothings, y = accs)\n",
    "\n",
    "############\n",
    "\n",
    "for i in range(len(accs)):\n",
    "  print(var_smoothings[i], accs[i])"
   ]
  },
  {
   "cell_type": "code",
   "execution_count": null,
   "metadata": {
    "id": "YuM0M9v2_wWu"
   },
   "outputs": [],
   "source": []
  }
 ],
 "metadata": {
  "colab": {
   "collapsed_sections": [
    "Z3PR74Afkebs"
   ],
   "name": "Naive_Bayes.ipynb",
   "provenance": []
  },
  "kernelspec": {
   "display_name": "Python 3",
   "language": "python",
   "name": "python3"
  },
  "language_info": {
   "codemirror_mode": {
    "name": "ipython",
    "version": 3
   },
   "file_extension": ".py",
   "mimetype": "text/x-python",
   "name": "python",
   "nbconvert_exporter": "python",
   "pygments_lexer": "ipython3",
   "version": "3.8.10"
  }
 },
 "nbformat": 4,
 "nbformat_minor": 1
}
