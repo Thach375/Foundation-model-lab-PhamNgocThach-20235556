{
 "cells": [
  {
   "cell_type": "markdown",
   "metadata": {},
   "source": [
    "## Đánh giá điểm tín dụng sử dụng Decision Tree và Random Forest \n",
    "\n",
    "Mục tiêu: \n",
    "\n",
    "- Xây dựng mô hình Decision Tree và Random Forest sử dụng thư viện sklearn. \n",
    "- Ứng dụng, hiểu cách áp dụng hai mô hình để giải bài toán thực tế (vd: đánh gia điểm tín dụng).\n",
    "- Sử dụng độ đo thích hợp để đánh giá chất lượng mô hình. \n",
    "\n",
    "Vấn đề: \n",
    "\n",
    "- Yếu tố then chốt trong việc cho vay tín dụng là khả năng hoàn trả của người vay. Vì vậy đánh giá điểm tín dụng của người dùng là một bài toán được quan tâm trong lĩnh vực tài chính. Nhìn chung, đây là một bài toán phân lọai 2 lớp (good/bad score).\n",
    "- Hơn nữa, số lượng bad credits thường ít hơn nhiều so với số lượng good credits ==> Dữ liệu nhãn lớp mất cân bằng.\n",
    "\n",
    "Dữ liệu: \n",
    "\n",
    "- Thường ở dưới dạng bảng, mỗi hàng là một cá nhân vay, mỗi cột thể hiện một thuộc tính của cá nhân đó.\n",
    "- Các trường thuộc tính tồn tại ở nhiều dạng: categorical, numeric (discrete / continuous). Thậm chí tên trường có thể được ẩn đi, hay giá trị thật sự được mã hõa để đảm bảo tính bảo mật của khách hàng.\n",
    "- Hai tập dữ liệu sẽ sử dụng: German credit và Australian credit.\n",
    "\n",
    "https://archive.ics.uci.edu/ml/datasets/Statlog+(Australian+Credit+Approval)\n",
    "\n",
    "https://archive.ics.uci.edu/ml/datasets/Statlog+%28German+Credit+Data%29\n",
    "\n",
    "Bài toán: \n",
    "\n",
    "- Đâu vào: N vector D chiều, tương ứng N cá thể với D thuộc tính.\n",
    "- Đầu ra: nhãn 0-1 (0: bad credit, 1: good credit)."
   ]
  },
  {
   "cell_type": "code",
   "execution_count": 3,
   "metadata": {},
   "outputs": [],
   "source": [
    "import numpy as np\n",
    "from sklearn.model_selection import train_test_split, GridSearchCV, learning_curve, ShuffleSplit, cross_val_score\n",
    "from sklearn.feature_selection import SelectFromModel\n",
    "from sklearn.metrics import accuracy_score, confusion_matrix, classification_report, f1_score, roc_auc_score\n",
    "\n",
    "import matplotlib.pyplot as plt\n",
    "\n",
    "from sklearn.ensemble import RandomForestClassifier \n",
    "from sklearn.tree import DecisionTreeClassifier \n",
    "\n",
    "random_state = 42"
   ]
  },
  {
   "cell_type": "markdown",
   "metadata": {},
   "source": [
    "## 1. Tìm hiểu dữ liệu"
   ]
  },
  {
   "cell_type": "code",
   "execution_count": 4,
   "metadata": {},
   "outputs": [
    {
     "name": "stdout",
     "output_type": "stream",
     "text": [
      "[[ 1.  6.  4. ...  0.  1.  1.]\n",
      " [ 2. 48.  2. ...  0.  1.  2.]\n",
      " [ 4. 12.  4. ...  1.  0.  1.]\n",
      " ...\n",
      " [ 4. 12.  2. ...  0.  1.  1.]\n",
      " [ 1. 45.  2. ...  0.  1.  2.]\n",
      " [ 2. 45.  4. ...  0.  1.  1.]]\n",
      "(1000, 24) (1000,)\n",
      "(800, 24) (200, 24)\n"
     ]
    }
   ],
   "source": [
    "'''\n",
    "- Tìm hiểu cấu trúc data tại trang web UCI\n",
    "- Down các files, đặt trong folder data/\n",
    "- Làm với phiên bản 'numeric'\n",
    "'''\n",
    "data_path = './data/german.data-numeric'\n",
    "credit=np.genfromtxt(data_path)\n",
    "print(credit)\n",
    "X,y = credit[:,:-1], credit[:,-1]\n",
    "print(X.shape, y.shape)\n",
    "\n",
    "X_train, X_test, y_train, y_test = train_test_split(X,y,test_size=0.2, random_state=42)\n",
    "print(X_train.shape, X_test.shape)\n"
   ]
  },
  {
   "cell_type": "markdown",
   "metadata": {},
   "source": [
    "## 2. Tìm hiểu mô hình Decision Tree, Random Forest của Sklearn"
   ]
  },
  {
   "cell_type": "code",
   "execution_count": 5,
   "metadata": {},
   "outputs": [],
   "source": [
    "'''\n",
    "- Decision Tree\n",
    "https://scikit-learn.org/stable/modules/generated/sklearn.tree.DecisionTreeClassifier.html\n",
    "'''\n",
    "DT = DecisionTreeClassifier(random_state=random_state)\n",
    "\n",
    "'''\n",
    "- Random Forest\n",
    "https://scikit-learn.org/stable/modules/generated/sklearn.ensemble.RandomForestClassifier.html\n",
    "'''\n",
    "RF = RandomForestClassifier(random_state=random_state)"
   ]
  },
  {
   "cell_type": "code",
   "execution_count": 6,
   "metadata": {},
   "outputs": [
    {
     "name": "stdout",
     "output_type": "stream",
     "text": [
      "Demo DT and RF prediction\n",
      "-DT acc = 0.665\n",
      "-DT f1 = 0.7632508833922261\n",
      "-DT roc auc = 0.5948431301839163\n",
      "[[108  33]\n",
      " [ 34  25]]\n"
     ]
    }
   ],
   "source": [
    "print('Demo DT and RF prediction')\n",
    "DT.fit(X_train, y_train)\n",
    "y_dt_pred = DT.predict(X_test)\n",
    "print(\"-DT acc = {}\".format(accuracy_score(y_test, y_dt_pred)))\n",
    "print(\"-DT f1 = {}\".format(f1_score(y_test, y_dt_pred)))\n",
    "print(\"-DT roc auc = {}\".format(roc_auc_score(y_test, y_dt_pred)))\n",
    "print(confusion_matrix(y_test, y_dt_pred))"
   ]
  },
  {
   "cell_type": "markdown",
   "metadata": {},
   "source": [
    "### Bài 1: Chạy RF baseline"
   ]
  },
  {
   "cell_type": "code",
   "execution_count": 10,
   "metadata": {},
   "outputs": [
    {
     "name": "stdout",
     "output_type": "stream",
     "text": [
      "-RF acc = 0.81\n",
      "-RF f1 = 0.8749999999999999\n",
      "-RF roc auc = 0.7173939175381656\n",
      "[[133   8]\n",
      " [ 30  29]]\n",
      "              precision    recall  f1-score   support\n",
      "\n",
      "         1.0       0.82      0.94      0.87       141\n",
      "         2.0       0.78      0.49      0.60        59\n",
      "\n",
      "    accuracy                           0.81       200\n",
      "   macro avg       0.80      0.72      0.74       200\n",
      "weighted avg       0.81      0.81      0.80       200\n",
      "\n"
     ]
    }
   ],
   "source": [
    "RF.fit(X_train, y_train)\n",
    "y_rf_pred = RF.predict(X_test)\n",
    "print(\"-RF acc = {}\".format(accuracy_score(y_test, y_rf_pred)))\n",
    "print(\"-RF f1 = {}\".format(f1_score(y_test, y_rf_pred)))\n",
    "print(\"-RF roc auc = {}\".format(roc_auc_score(y_test, y_rf_pred)))\n",
    "print(confusion_matrix(y_test, y_rf_pred))\n",
    "print(classification_report(y_test, y_rf_pred))"
   ]
  },
  {
   "cell_type": "markdown",
   "metadata": {},
   "source": [
    "## 3. Tìm kiếm siêu tham số"
   ]
  },
  {
   "cell_type": "code",
   "execution_count": 21,
   "metadata": {},
   "outputs": [],
   "source": [
    "# Utility functions\n",
    "def grid_search(algorithm, n_jobs, dict_param):\n",
    "    if algorithm == 'decision-tree':\n",
    "        model = DecisionTreeClassifier()\n",
    "    if algorithm == 'random-forest':\n",
    "        model = RandomForestClassifier()\n",
    "    classifier = GridSearchCV(estimator=model, cv=5, param_grid=dict_param,\n",
    "                            n_jobs=n_jobs, scoring='f1')\n",
    "    classifier.fit(X_train, y_train)\n",
    "    print('Best model', end='')\n",
    "    print(classifier.best_estimator_)\n",
    "    return classifier.best_estimator_\n",
    "\n",
    "def evaluate(model): \n",
    "    print(\"Train Accuracy :\", accuracy_score(y_train, model.predict(X_train)))\n",
    "    print(\"Train f1 score :\", f1_score(y_train, model.predict(X_train)))  \n",
    "    print(\"Train roc auc :\", roc_auc_score(y_train, model.predict(X_train)))  \n",
    "    print(\"Train Confusion Matrix:\")\n",
    "    print(confusion_matrix(y_train, model.predict(X_train)))\n",
    "    print(\"-\"*50)\n",
    "    print(\"Test Accuracy :\", accuracy_score(y_test, model.predict(X_test)))\n",
    "    print(\"Test f1 score :\", f1_score(y_test, model.predict(X_test)))\n",
    "    print(\"Test roc auc :\", roc_auc_score(y_test, model.predict(X_test)))  \n",
    "    print(\"Test Confusion Matrix:\")\n",
    "    print(confusion_matrix(y_test, model.predict(X_test)))\n",
    "\n",
    "def plot_learning_curve(estimator, title, label_curve, X, y, ylim=None, cv=None,\n",
    "                        n_jobs=1, train_sizes=np.linspace(.1, 1.0, 5), new_plot=False,\n",
    "                        idx_color=0):\n",
    "    # Khởi tạo bức ảnh mới với thư viện plot lib \n",
    "    if new_plot:\n",
    "        # plt.figure()\n",
    "        plt.title(title)\n",
    "        plt.xlabel(\"Training examples\")\n",
    "        plt.ylabel(\"Score\")\n",
    "        plt.grid()\n",
    "    # chú thích nếu có \n",
    "    if ylim is not None:\n",
    "        plt.ylim(*ylim)\n",
    "        \n",
    "    # thực hiện training model, ghi nhận các giá trị trong quá trình training \n",
    "    # cv = số fold cross validate, số phần bộ dữ liệu được chia để thực hiện training testing.\n",
    "    # train_sizes = mảng tỉ lệ, các tỉ lệ được hệ thống chọn làm điểm dừng để thực hiện 1 testing \n",
    "    #  train_sizes = [0.3, 0.5] => hệ thống lấy 30 % dữ liệu để train và thực hiện test, tương tự 50 % ..\n",
    "    # scoring = hàm mục tiêu để đánh giá chất lượng mô hình và vẽ lên đồ thị \n",
    "    train_sizes, train_scores, test_scores = learning_curve(\n",
    "        estimator, X, y, cv=cv, n_jobs=n_jobs, train_sizes=train_sizes, scoring=\"f1\")\n",
    "    # Lấy trung bình cộng các giá trị output của các fold \n",
    "    train_scores_mean = np.mean(train_scores, axis=1)\n",
    "    train_scores_std = np.std(train_scores, axis=1)\n",
    "    test_scores_mean = np.mean(test_scores, axis=1)\n",
    "    test_scores_std = np.std(test_scores, axis=1)\n",
    "    \n",
    "    # thực hiện vẽ các giá trị số lên đồ thị với màu vừa được random \n",
    "    plt.fill_between(train_sizes, test_scores_mean - test_scores_std,\n",
    "                     test_scores_mean + test_scores_std, alpha=0.1, color='r')\n",
    "    plt.fill_between(train_sizes, train_scores_mean - train_scores_std,\n",
    "                     train_scores_mean + train_scores_std, alpha=0.1, color='g')\n",
    "    plt.plot(train_sizes, test_scores_mean, 'o-', color='r',\n",
    "             label=label_curve['test'])\n",
    "    plt.plot(train_sizes, train_scores_mean, 'o-', color='g',\n",
    "             label=label_curve['train'])\n",
    "\n",
    "    plt.legend(loc=\"best\")\n",
    "    return plt"
   ]
  },
  {
   "cell_type": "markdown",
   "metadata": {},
   "source": [
    "### 3.1 Decision Tree"
   ]
  },
  {
   "cell_type": "code",
   "execution_count": 11,
   "metadata": {},
   "outputs": [
    {
     "data": {
      "text/plain": "Text(0.5, 1.0, 'DT validation curve for max_depth')"
     },
     "execution_count": 11,
     "metadata": {},
     "output_type": "execute_result"
    },
    {
     "data": {
      "image/png": "[encoded data removed]",
      "text/plain": "<Figure size 432x288 with 1 Axes>"
     },
     "metadata": {
      "needs_background": "light"
     },
     "output_type": "display_data"
    }
   ],
   "source": [
    "# Trước hết, hãy thử khảo sát DT với tham số max_depth\n",
    "cv_accuracies_by_depth, test_accuracies_by_depth= [], []\n",
    "max_depth_values= np.arange(2,11)\n",
    "\n",
    "for curr_max_depth in max_depth_values:\n",
    "  tree= DecisionTreeClassifier(random_state=random_state, max_depth=curr_max_depth)\n",
    "  \n",
    "  # cross-validation\n",
    "  val_scores= cross_val_score(estimator=tree, X=X_train, y=y_train, cv=5, scoring='f1')\n",
    "  cv_accuracies_by_depth.append(val_scores.mean())\n",
    "\n",
    "  # test\n",
    "  tree.fit(X_train, y_train)\n",
    "  curr_pred= tree.predict(X_test)\n",
    "  test_accuracies_by_depth.append(f1_score(curr_pred, y_test))\n",
    "\n",
    "# Plot \n",
    "plt.plot(max_depth_values, cv_accuracies_by_depth, label='cv')\n",
    "plt.plot(max_depth_values, test_accuracies_by_depth, label='test')\n",
    "plt.legend()\n",
    "plt.xlabel('max depth')\n",
    "plt.ylabel('scores')\n",
    "plt.title('DT validation curve for max_depth')"
   ]
  },
  {
   "cell_type": "code",
   "execution_count": 15,
   "metadata": {},
   "outputs": [
    {
     "name": "stdout",
     "output_type": "stream",
     "text": [
      "Best modelDecisionTreeClassifier(max_depth=5, min_samples_leaf=50)\n"
     ]
    }
   ],
   "source": [
    "# Thử sử dụng GridSearchCV để khảo sát\n",
    "dict_param = {\n",
    "    'max_depth': [2, 3, 5, 7, 10, 20],\n",
    "    'min_samples_leaf': [5, 10, 20, 50, 100],\n",
    "    'criterion': [\"gini\", \"entropy\"]\n",
    "}\n",
    "best_tree = grid_search('decision-tree', n_jobs=-1, dict_param=dict_param)\n"
   ]
  },
  {
   "cell_type": "markdown",
   "metadata": {},
   "source": [
    "### Bài 2: đánh giá best_tree\n",
    "- Prediction performance\n",
    "- Learning curve"
   ]
  },
  {
   "cell_type": "code",
   "execution_count": 16,
   "metadata": {},
   "outputs": [
    {
     "name": "stdout",
     "output_type": "stream",
     "text": [
      "Train Accuracy : 0.75375\n",
      "Train roc auc : 0.6691817783683073\n",
      "Train Confusion Matrix:\n",
      "[[493  66]\n",
      " [131 110]]\n",
      "--------------------------------------------------\n",
      "Test Accuracy : 0.795\n",
      "Test roc auc : 0.721541050607044\n",
      "Test Confusion Matrix:\n",
      "[[127  14]\n",
      " [ 27  32]]\n"
     ]
    },
    {
     "data": {
      "text/plain": "<module 'matplotlib.pyplot' from '/home/lam/.local/lib/python3.6/site-packages/matplotlib/pyplot.py'>"
     },
     "execution_count": 16,
     "metadata": {},
     "output_type": "execute_result"
    },
    {
     "data": {
      "image/png": "[encoded data removed]",
      "text/plain": "<Figure size 432x288 with 1 Axes>"
     },
     "metadata": {
      "needs_background": "light"
     },
     "output_type": "display_data"
    }
   ],
   "source": [
    "best_tree.fit(X_train, y_train)\n",
    "evaluate(best_tree)\n",
    "title = 'Learning curve with best tree'\n",
    "label_curve = {'train': 'train', 'test':'cv'}\n",
    "plot_learning_curve(best_tree, title, label_curve\n",
    "                    , X_train, y_train, cv=5)\n"
   ]
  },
  {
   "cell_type": "code",
   "execution_count": 37,
   "metadata": {},
   "outputs": [
    {
     "name": "stdout",
     "output_type": "stream",
     "text": [
      "Top 10 feature importances\n",
      "Feature  0 - 0.40445005922715943\n",
      "Feature  1 - 0.17066428015343657\n",
      "Feature  2 - 0.14261352910286315\n",
      "Feature  3 - 0.07120344185816782\n",
      "Feature  4 - 0.05428847945598893\n",
      "Feature  5 - 0.05400258515142507\n",
      "Feature  6 - 0.04007488290946428\n",
      "Feature  7 - 0.03813781829612112\n",
      "Feature  8 - 0.015091674891623292\n",
      "Feature  9 - 0.009473248953750433\n"
     ]
    },
    {
     "data": {
      "image/png": "[encoded data removed]",
      "text/plain": "<Figure size 432x288 with 1 Axes>"
     },
     "metadata": {
      "needs_background": "light"
     },
     "output_type": "display_data"
    }
   ],
   "source": [
    "# Nhận xét về độ quan trọng của từng feature\n",
    "importances = best_tree.feature_importances_\n",
    "indices = np.argsort(importances)[::-1]\n",
    "print('Top 10 feature importances')\n",
    "for i in range(10):\n",
    "    print('Feature ', i, '-', importances[indices[i]])\n",
    "\n",
    "indices = indices[:10]\n",
    "plt.figure()\n",
    "plt.title('Top 10 feature importances')\n",
    "plt.bar(range(10), importances[indices])\n",
    "plt.xticks(range(10), indices)\n",
    "plt.show()"
   ]
  },
  {
   "cell_type": "markdown",
   "metadata": {},
   "source": [
    "###  3.2 Random Forest"
   ]
  },
  {
   "cell_type": "markdown",
   "metadata": {},
   "source": [
    "### Bài 3: thực hành tương tự với RF"
   ]
  },
  {
   "cell_type": "code",
   "execution_count": 17,
   "metadata": {},
   "outputs": [
    {
     "data": {
      "image/png": "[encoded data removed]",
      "text/plain": "<Figure size 432x288 with 1 Axes>"
     },
     "metadata": {
      "needs_background": "light"
     },
     "output_type": "display_data"
    }
   ],
   "source": [
    "# Bài tập\n",
    "# Tương tự, thử khảo sát RF với số lượng cây n_estimators\n",
    "# code\n",
    "num_trees = [5, 10, 15, 20, 30, 50, 75, 100, 150]\n",
    "\n",
    "# giải\n",
    "train_acc = []\n",
    "test_acc = []\n",
    "for ntrees in num_trees:\n",
    "    rf = RandomForestClassifier(n_estimators=ntrees, random_state=random_state, n_jobs=-1).fit(X_train, y_train)\n",
    "    temp_train_acc=cross_val_score(rf, X_test, y_test, cv=5, scoring='f1')\n",
    "    train_acc.append(temp_train_acc.mean())\n",
    "    test_acc.append(f1_score(rf.predict(X_test), y_test))\n",
    "plt.plot(num_trees, train_acc, label='train')\n",
    "plt.plot(num_trees, test_acc, label='test')\n",
    "plt.legend()\n",
    "plt.xlabel('No. of trees (n_estimators)')\n",
    "plt.ylabel('Scores')\n",
    "plt.title('Random-Forest: scores vs n_estimators');"
   ]
  },
  {
   "cell_type": "code",
   "execution_count": 18,
   "metadata": {},
   "outputs": [
    {
     "name": "stdout",
     "output_type": "stream",
     "text": [
      "Best modelRandomForestClassifier(max_depth=27, max_features=16, min_samples_leaf=5,\n",
      "                       n_estimators=75)\n"
     ]
    }
   ],
   "source": [
    "# Sử dụng GridSearch CV\n",
    "dict_param = {\n",
    "    'max_depth': [3, 11, 15, 24, 27], \n",
    "    'min_samples_leaf': [1, 5, 7, 9, 15, 24],\n",
    "    'max_features':  [4, 6, 10, 16],\n",
    "    'n_estimators': [75]\n",
    "}\n",
    "# Bài tập: \n",
    "# - tìm best_forest\n",
    "# - Đánh giá best_forest\n",
    "# - Vẽ learning curve\n",
    "# - Tìm hiểu feature importance\n",
    "# Code\n",
    "\n",
    "# Giải\n",
    "# - Tìm best_forest\n",
    "best_forest = grid_search('random-forest', n_jobs=-1, dict_param=dict_param)"
   ]
  },
  {
   "cell_type": "code",
   "execution_count": 20,
   "metadata": {},
   "outputs": [
    {
     "name": "stdout",
     "output_type": "stream",
     "text": [
      "Train Accuracy : 0.89875\n",
      "Train roc auc : 0.8461130204351279\n",
      "Train Confusion Matrix:\n",
      "[[547  12]\n",
      " [ 69 172]]\n",
      "--------------------------------------------------\n",
      "Test Accuracy : 0.775\n",
      "Test roc auc : 0.6728573145810794\n",
      "Test Confusion Matrix:\n",
      "[[130  11]\n",
      " [ 34  25]]\n"
     ]
    },
    {
     "data": {
      "text/plain": "<module 'matplotlib.pyplot' from '/home/lam/.local/lib/python3.6/site-packages/matplotlib/pyplot.py'>"
     },
     "execution_count": 20,
     "metadata": {},
     "output_type": "execute_result"
    },
    {
     "data": {
      "image/png": "[encoded data removed]",
      "text/plain": "<Figure size 432x288 with 1 Axes>"
     },
     "metadata": {
      "needs_background": "light"
     },
     "output_type": "display_data"
    }
   ],
   "source": [
    "# Giải\n",
    "# - Đánh giá best_forest và vẽ Learning Curve\n",
    "evaluate(best_forest)\n",
    "title = 'Learning curve with best forest'\n",
    "label_curve = {'train': 'train', 'test':'cv'}\n",
    "plot_learning_curve(best_forest, title, label_curve\n",
    "                    , X_train, y_train, cv=5)"
   ]
  },
  {
   "cell_type": "code",
   "execution_count": 43,
   "metadata": {},
   "outputs": [
    {
     "name": "stdout",
     "output_type": "stream",
     "text": [
      "Top 10 feature importances\n",
      "Feature  0 - 0.18546725288085203\n",
      "Feature  1 - 0.14586230946748843\n",
      "Feature  2 - 0.11589666908123857\n",
      "Feature  3 - 0.11238796654515897\n",
      "Feature  4 - 0.08906888774463108\n",
      "Feature  5 - 0.05030161330772379\n",
      "Feature  6 - 0.04494763709450428\n",
      "Feature  7 - 0.041114129019795234\n",
      "Feature  8 - 0.029706735056116974\n",
      "Feature  9 - 0.02849291814075971\n"
     ]
    },
    {
     "data": {
      "image/png": "[encoded data removed]",
      "text/plain": "<Figure size 432x288 with 1 Axes>"
     },
     "metadata": {
      "needs_background": "light"
     },
     "output_type": "display_data"
    }
   ],
   "source": [
    "# Giải: Feature importance\n",
    "best_forest.fit(X_train,y_train)\n",
    "importances = best_forest.feature_importances_\n",
    "std = np.std([tree.feature_importances_ for tree in best_forest.estimators_], axis=0)\n",
    "indices = np.argsort(importances)[::-1]\n",
    "print('Top 10 feature importances')\n",
    "for i in range(10):\n",
    "    print('Feature ', i, '-', importances[indices[i]])\n",
    "\n",
    "indices = indices[:10]\n",
    "plt.figure()\n",
    "plt.title('Top 10 feature importances')\n",
    "plt.bar(range(10), importances[indices], yerr=std[indices])\n",
    "plt.xticks(range(10), indices)\n",
    "plt.show()\n"
   ]
  },
  {
   "cell_type": "markdown",
   "metadata": {},
   "source": [
    "### 3.3 Thử nghiệm bổ sung"
   ]
  },
  {
   "cell_type": "markdown",
   "metadata": {},
   "source": [
    "#### 3.3.1 Bỏ một số features có độ quan trọng thấp"
   ]
  },
  {
   "cell_type": "code",
   "execution_count": 61,
   "metadata": {},
   "outputs": [
    {
     "name": "stdout",
     "output_type": "stream",
     "text": [
      "0.79\n"
     ]
    }
   ],
   "source": [
    "# Thử bỏ một sô feature có độ quan trọng thấp đi\n",
    "# Chú ý tham max_features cần thay đổi\n",
    "sfm = SelectFromModel(best_forest, threshold='mean')\n",
    "sfm.fit(X_train, y_train)\n",
    "X_train_dropped = sfm.transform(X_train)\n",
    "X_test_dropped = sfm.transform(X_test)\n",
    "\n",
    "title = 'Learning with dropped features'\n",
    "label_curve = {'train': 'train', 'test':'cv'}\n",
    "forest_dropped = RandomForestClassifier(max_depth=11, min_samples_leaf=5,\n",
    "                       n_estimators=75, n_jobs=-1, random_state=random_state)\n",
    "\n",
    "# plot_learning_curve(forest_dropped, title, label_curve, X_train_dropped, y_train, cv=5)\n",
    "\n",
    "forest_dropped.fit(X_train_dropped, y_train)\n",
    "y_dropped_pred = forest_dropped.predict(X_test_dropped)\n",
    "print('acc', accuracy_score(y_test, y_dropped_pred))\n",
    "print('f1', f1_score(y_test, y_dropped_pred))\n",
    "print('roc_auc', roc_auc_score(y_test, y_dropped_pred))"
   ]
  },
  {
   "cell_type": "markdown",
   "metadata": {},
   "source": [
    "#### 3.3.2 Một số chiến lược áp dụng cho Random Forest khi gặp phải Class Imbalance\n",
    "https://machinelearningmastery.com/bagging-and-random-forest-for-imbalanced-classification/"
   ]
  },
  {
   "cell_type": "code",
   "execution_count": 29,
   "metadata": {},
   "outputs": [
    {
     "name": "stdout",
     "output_type": "stream",
     "text": [
      "Train Accuracy : 0.89875\n",
      "Train f1 score : 0.931063829787234\n",
      "Train roc auc : 0.8461130204351279\n",
      "Train Confusion Matrix:\n",
      "[[547  12]\n",
      " [ 69 172]]\n",
      "--------------------------------------------------\n",
      "Test Accuracy : 0.775\n",
      "Test f1 score : 0.8524590163934427\n",
      "Test roc auc : 0.8461130204351279\n",
      "Test Confusion Matrix:\n",
      "[[130  11]\n",
      " [ 34  25]]\n"
     ]
    }
   ],
   "source": [
    "'''\n",
    "- Standard RF\n",
    "'''\n",
    "params = {\n",
    "    'max_depth': best_forest.get_params()['max_depth'],\n",
    "    'max_features': best_forest.get_params()['max_features'],\n",
    "    'min_samples_leaf': best_forest.get_params()['min_samples_leaf'],\n",
    "    'n_estimators': best_forest.get_params()['n_estimators'],\n",
    "}\n",
    "evaluate(best_forest)\n"
   ]
  },
  {
   "cell_type": "code",
   "execution_count": 30,
   "metadata": {},
   "outputs": [
    {
     "name": "stdout",
     "output_type": "stream",
     "text": [
      "Train Accuracy : 0.9075\n",
      "Train f1 score : 0.9326047358834244\n",
      "Train roc auc : 0.9019440464967822\n",
      "Train Confusion Matrix:\n",
      "[[512  47]\n",
      " [ 27 214]]\n",
      "--------------------------------------------------\n",
      "Test Accuracy : 0.78\n",
      "Test f1 score : 0.8439716312056738\n",
      "Test roc auc : 0.9019440464967822\n",
      "Test Confusion Matrix:\n",
      "[[119  22]\n",
      " [ 22  37]]\n"
     ]
    }
   ],
   "source": [
    "'''\n",
    "- Random Forest With Class Weighting\n",
    "'''\n",
    "rf1 = RandomForestClassifier(max_depth=params['max_depth'], max_features=params['max_features'],\n",
    "                             min_samples_leaf = params['min_samples_leaf'], n_estimators=params['n_estimators'],\n",
    "                             class_weight='balanced')\n",
    "rf1.fit(X_train, y_train)\n",
    "evaluate(rf1)"
   ]
  },
  {
   "cell_type": "code",
   "execution_count": 31,
   "metadata": {},
   "outputs": [
    {
     "name": "stdout",
     "output_type": "stream",
     "text": [
      "Train Accuracy : 0.91\n",
      "Train f1 score : 0.9345454545454546\n",
      "Train roc auc : 0.9037329552624351\n",
      "Train Confusion Matrix:\n",
      "[[514  45]\n",
      " [ 27 214]]\n",
      "--------------------------------------------------\n",
      "Test Accuracy : 0.78\n",
      "Test f1 score : 0.8428571428571429\n",
      "Test roc auc : 0.9037329552624351\n",
      "Test Confusion Matrix:\n",
      "[[118  23]\n",
      " [ 21  38]]\n"
     ]
    }
   ],
   "source": [
    "'''\n",
    "- Random Forest With Bootstrap Class Weighting\n",
    "'''\n",
    "'''\n",
    "- Random Forest With Class Weighting\n",
    "'''\n",
    "rf2 = RandomForestClassifier(max_depth=params['max_depth'], max_features=params['max_features'],\n",
    "                             min_samples_leaf = params['min_samples_leaf'], n_estimators=params['n_estimators'],\n",
    "                             class_weight='balanced_subsample')\n",
    "rf2.fit(X_train, y_train)\n",
    "evaluate(rf2)"
   ]
  },
  {
   "cell_type": "code",
   "execution_count": 45,
   "metadata": {},
   "outputs": [
    {
     "name": "stdout",
     "output_type": "stream",
     "text": [
      "0.24.0\n"
     ]
    }
   ],
   "source": [
    "'''\n",
    "- Random Forest With Random Undersampling\n",
    "'''\n",
    "from imblearn.ensemble import BalancedRandomForestClassifier\n",
    "rf3 = BalancedRandomForestClassifier(max_depth=params['max_depth'], max_features=params['max_features'],\n",
    "                             min_samples_leaf = params['min_samples_leaf'], n_estimators=params['n_estimators'],\n",
    "                             )\n",
    "rf3.fit(X_train, y_train)\n",
    "evaluate(rf3)"
   ]
  }
 ],
 "metadata": {
  "kernelspec": {
   "display_name": "Python 3",
   "language": "python",
   "name": "python3"
  },
  "language_info": {
   "name": "python",
   "version": ""
  }
 },
 "nbformat": 4,
 "nbformat_minor": 2
}