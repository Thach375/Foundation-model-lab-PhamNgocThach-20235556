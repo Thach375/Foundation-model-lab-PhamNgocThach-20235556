{
  "nbformat": 4,
  "nbformat_minor": 2,
  "metadata": {
    "accelerator": "GPU",
    "colab": {
      "name": "Bai04_pytorch.ipynb",
      "provenance": [],
      "collapsed_sections": []
    },
    "kernelspec": {
      "display_name": "Python 3",
      "name": "python3"
    },
    "widgets": {
      "application/vnd.jupyter.widget-state+json": {
        "16e8f25ba3b6475c8f1b2a36f5f580cc": {
          "model_module": "@jupyter-widgets/controls",
          "model_name": "HBoxModel",
          "model_module_version": "1.5.0",
          "state": {
            "_view_name": "HBoxView",
            "_dom_classes": [],
            "_model_name": "HBoxModel",
            "_view_module": "@jupyter-widgets/controls",
            "_model_module_version": "1.5.0",
            "_view_count": null,
            "_view_module_version": "1.5.0",
            "box_style": "",
            "layout": "IPY_MODEL_a4297f2bdaf34c08bc25e89298cd799e",
            "_model_module": "@jupyter-widgets/controls",
            "children": [
              "IPY_MODEL_de6a3ccbf4fc4b24b970b266fed607ec",
              "IPY_MODEL_e26f0fbdac314a6980414580f394d5cc",
              "IPY_MODEL_a2823edbab364addbc5b7711bda916f3"
            ]
          }
        },
        "a4297f2bdaf34c08bc25e89298cd799e": {
          "model_module": "@jupyter-widgets/base",
          "model_name": "LayoutModel",
          "model_module_version": "1.2.0",
          "state": {
            "_view_name": "LayoutView",
            "grid_template_rows": null,
            "right": null,
            "justify_content": null,
            "_view_module": "@jupyter-widgets/base",
            "overflow": null,
            "_model_module_version": "1.2.0",
            "_view_count": null,
            "flex_flow": null,
            "width": null,
            "min_width": null,
            "border": null,
            "align_items": null,
            "bottom": null,
            "_model_module": "@jupyter-widgets/base",
            "top": null,
            "grid_column": null,
            "overflow_y": null,
            "overflow_x": null,
            "grid_auto_flow": null,
            "grid_area": null,
            "grid_template_columns": null,
            "flex": null,
            "_model_name": "LayoutModel",
            "justify_items": null,
            "grid_row": null,
            "max_height": null,
            "align_content": null,
            "visibility": null,
            "align_self": null,
            "height": null,
            "min_height": null,
            "padding": null,
            "grid_auto_rows": null,
            "grid_gap": null,
            "max_width": null,
            "order": null,
            "_view_module_version": "1.2.0",
            "grid_template_areas": null,
            "object_position": null,
            "object_fit": null,
            "grid_auto_columns": null,
            "margin": null,
            "display": null,
            "left": null
          }
        },
        "de6a3ccbf4fc4b24b970b266fed607ec": {
          "model_module": "@jupyter-widgets/controls",
          "model_name": "HTMLModel",
          "model_module_version": "1.5.0",
          "state": {
            "_view_name": "HTMLView",
            "style": "IPY_MODEL_d67037174e49400886068597e526092a",
            "_dom_classes": [],
            "description": "",
            "_model_name": "HTMLModel",
            "placeholder": "​",
            "_view_module": "@jupyter-widgets/controls",
            "_model_module_version": "1.5.0",
            "value": "",
            "_view_count": null,
            "_view_module_version": "1.5.0",
            "description_tooltip": null,
            "_model_module": "@jupyter-widgets/controls",
            "layout": "IPY_MODEL_b4e17205b1654eb4b285472f0dd96d24"
          }
        },
        "e26f0fbdac314a6980414580f394d5cc": {
          "model_module": "@jupyter-widgets/controls",
          "model_name": "FloatProgressModel",
          "model_module_version": "1.5.0",
          "state": {
            "_view_name": "ProgressView",
            "style": "IPY_MODEL_1a1b63b14568411aaa96f054ac68b7c9",
            "_dom_classes": [],
            "description": "",
            "_model_name": "FloatProgressModel",
            "bar_style": "success",
            "max": 170498071,
            "_view_module": "@jupyter-widgets/controls",
            "_model_module_version": "1.5.0",
            "value": 170498071,
            "_view_count": null,
            "_view_module_version": "1.5.0",
            "orientation": "horizontal",
            "min": 0,
            "description_tooltip": null,
            "_model_module": "@jupyter-widgets/controls",
            "layout": "IPY_MODEL_e1dad15dc96b4795b4f2d4e807d08898"
          }
        },
        "a2823edbab364addbc5b7711bda916f3": {
          "model_module": "@jupyter-widgets/controls",
          "model_name": "HTMLModel",
          "model_module_version": "1.5.0",
          "state": {
            "_view_name": "HTMLView",
            "style": "IPY_MODEL_830d16ddfce34cefb7efe6d1582b3204",
            "_dom_classes": [],
            "description": "",
            "_model_name": "HTMLModel",
            "placeholder": "​",
            "_view_module": "@jupyter-widgets/controls",
            "_model_module_version": "1.5.0",
            "value": " 170499072/? [00:06&lt;00:00, 31319201.25it/s]",
            "_view_count": null,
            "_view_module_version": "1.5.0",
            "description_tooltip": null,
            "_model_module": "@jupyter-widgets/controls",
            "layout": "IPY_MODEL_156da9aeaf484a28a1313fb1289d9678"
          }
        },
        "d67037174e49400886068597e526092a": {
          "model_module": "@jupyter-widgets/controls",
          "model_name": "DescriptionStyleModel",
          "model_module_version": "1.5.0",
          "state": {
            "_view_name": "StyleView",
            "_model_name": "DescriptionStyleModel",
            "description_width": "",
            "_view_module": "@jupyter-widgets/base",
            "_model_module_version": "1.5.0",
            "_view_count": null,
            "_view_module_version": "1.2.0",
            "_model_module": "@jupyter-widgets/controls"
          }
        },
        "b4e17205b1654eb4b285472f0dd96d24": {
          "model_module": "@jupyter-widgets/base",
          "model_name": "LayoutModel",
          "model_module_version": "1.2.0",
          "state": {
            "_view_name": "LayoutView",
            "grid_template_rows": null,
            "right": null,
            "justify_content": null,
            "_view_module": "@jupyter-widgets/base",
            "overflow": null,
            "_model_module_version": "1.2.0",
            "_view_count": null,
            "flex_flow": null,
            "width": null,
            "min_width": null,
            "border": null,
            "align_items": null,
            "bottom": null,
            "_model_module": "@jupyter-widgets/base",
            "top": null,
            "grid_column": null,
            "overflow_y": null,
            "overflow_x": null,
            "grid_auto_flow": null,
            "grid_area": null,
            "grid_template_columns": null,
            "flex": null,
            "_model_name": "LayoutModel",
            "justify_items": null,
            "grid_row": null,
            "max_height": null,
            "align_content": null,
            "visibility": null,
            "align_self": null,
            "height": null,
            "min_height": null,
            "padding": null,
            "grid_auto_rows": null,
            "grid_gap": null,
            "max_width": null,
            "order": null,
            "_view_module_version": "1.2.0",
            "grid_template_areas": null,
            "object_position": null,
            "object_fit": null,
            "grid_auto_columns": null,
            "margin": null,
            "display": null,
            "left": null
          }
        },
        "1a1b63b14568411aaa96f054ac68b7c9": {
          "model_module": "@jupyter-widgets/controls",
          "model_name": "ProgressStyleModel",
          "model_module_version": "1.5.0",
          "state": {
            "_view_name": "StyleView",
            "_model_name": "ProgressStyleModel",
            "description_width": "",
            "_view_module": "@jupyter-widgets/base",
            "_model_module_version": "1.5.0",
            "_view_count": null,
            "_view_module_version": "1.2.0",
            "bar_color": null,
            "_model_module": "@jupyter-widgets/controls"
          }
        },
        "e1dad15dc96b4795b4f2d4e807d08898": {
          "model_module": "@jupyter-widgets/base",
          "model_name": "LayoutModel",
          "model_module_version": "1.2.0",
          "state": {
            "_view_name": "LayoutView",
            "grid_template_rows": null,
            "right": null,
            "justify_content": null,
            "_view_module": "@jupyter-widgets/base",
            "overflow": null,
            "_model_module_version": "1.2.0",
            "_view_count": null,
            "flex_flow": null,
            "width": null,
            "min_width": null,
            "border": null,
            "align_items": null,
            "bottom": null,
            "_model_module": "@jupyter-widgets/base",
            "top": null,
            "grid_column": null,
            "overflow_y": null,
            "overflow_x": null,
            "grid_auto_flow": null,
            "grid_area": null,
            "grid_template_columns": null,
            "flex": null,
            "_model_name": "LayoutModel",
            "justify_items": null,
            "grid_row": null,
            "max_height": null,
            "align_content": null,
            "visibility": null,
            "align_self": null,
            "height": null,
            "min_height": null,
            "padding": null,
            "grid_auto_rows": null,
            "grid_gap": null,
            "max_width": null,
            "order": null,
            "_view_module_version": "1.2.0",
            "grid_template_areas": null,
            "object_position": null,
            "object_fit": null,
            "grid_auto_columns": null,
            "margin": null,
            "display": null,
            "left": null
          }
        },
        "830d16ddfce34cefb7efe6d1582b3204": {
          "model_module": "@jupyter-widgets/controls",
          "model_name": "DescriptionStyleModel",
          "model_module_version": "1.5.0",
          "state": {
            "_view_name": "StyleView",
            "_model_name": "DescriptionStyleModel",
            "description_width": "",
            "_view_module": "@jupyter-widgets/base",
            "_model_module_version": "1.5.0",
            "_view_count": null,
            "_view_module_version": "1.2.0",
            "_model_module": "@jupyter-widgets/controls"
          }
        },
        "156da9aeaf484a28a1313fb1289d9678": {
          "model_module": "@jupyter-widgets/base",
          "model_name": "LayoutModel",
          "model_module_version": "1.2.0",
          "state": {
            "_view_name": "LayoutView",
            "grid_template_rows": null,
            "right": null,
            "justify_content": null,
            "_view_module": "@jupyter-widgets/base",
            "overflow": null,
            "_model_module_version": "1.2.0",
            "_view_count": null,
            "flex_flow": null,
            "width": null,
            "min_width": null,
            "border": null,
            "align_items": null,
            "bottom": null,
            "_model_module": "@jupyter-widgets/base",
            "top": null,
            "grid_column": null,
            "overflow_y": null,
            "overflow_x": null,
            "grid_auto_flow": null,
            "grid_area": null,
            "grid_template_columns": null,
            "flex": null,
            "_model_name": "LayoutModel",
            "justify_items": null,
            "grid_row": null,
            "max_height": null,
            "align_content": null,
            "visibility": null,
            "align_self": null,
            "height": null,
            "min_height": null,
            "padding": null,
            "grid_auto_rows": null,
            "grid_gap": null,
            "max_width": null,
            "order": null,
            "_view_module_version": "1.2.0",
            "grid_template_areas": null,
            "object_position": null,
            "object_fit": null,
            "grid_auto_columns": null,
            "margin": null,
            "display": null,
            "left": null
          }
        }
      }
    }
  },
  "cells": [
    {
      "cell_type": "markdown",
      "source": [
        "# Training Deep Neural Networks (Tiếp)\n",
        "Trong buổi này, chúng ta tiếp tục làm quen với một số kỹ thuật huấn luyện mạng nơ-ron"
      ],
      "metadata": {
        "id": "9dW-dnoOkkAp"
      }
    },
    {
      "cell_type": "code",
      "execution_count": 1,
      "source": [
        "!nvidia-smi\n",
        "# from google.colab import drive\n",
        "# drive.mount('/content/drive')\n",
        "\n",
        "import torch\n",
        "import torch.nn as nn\n",
        "import torch.optim as optim\n",
        "import numpy as np\n",
        "import glob\n",
        "import cv2\n",
        "import torch.nn.functional as F\n",
        "from torch.autograd import Variable\n",
        "\n",
        "import torchvision\n",
        "import torchvision.transforms as transforms\n",
        "\n",
        "from torch.nn import CrossEntropyLoss, Dropout, Softmax, Linear, Conv2d, LayerNorm\n",
        "import matplotlib.pyplot as plt\n",
        "from torchsummary import summary"
      ],
      "outputs": [
        {
          "output_type": "stream",
          "name": "stdout",
          "text": [
            "Fri Sep 10 08:45:59 2021       \n",
            "+-----------------------------------------------------------------------------+\n",
            "| NVIDIA-SMI 470.63.01    Driver Version: 460.32.03    CUDA Version: 11.2     |\n",
            "|-------------------------------+----------------------+----------------------+\n",
            "| GPU  Name        Persistence-M| Bus-Id        Disp.A | Volatile Uncorr. ECC |\n",
            "| Fan  Temp  Perf  Pwr:Usage/Cap|         Memory-Usage | GPU-Util  Compute M. |\n",
            "|                               |                      |               MIG M. |\n",
            "|===============================+======================+======================|\n",
            "|   0  Tesla K80           Off  | 00000000:00:04.0 Off |                    0 |\n",
            "| N/A   69C    P8    33W / 149W |      0MiB / 11441MiB |      0%      Default |\n",
            "|                               |                      |                  N/A |\n",
            "+-------------------------------+----------------------+----------------------+\n",
            "                                                                               \n",
            "+-----------------------------------------------------------------------------+\n",
            "| Processes:                                                                  |\n",
            "|  GPU   GI   CI        PID   Type   Process name                  GPU Memory |\n",
            "|        ID   ID                                                   Usage      |\n",
            "|=============================================================================|\n",
            "|  No running processes found                                                 |\n",
            "+-----------------------------------------------------------------------------+\n"
          ]
        }
      ],
      "metadata": {
        "colab": {
          "base_uri": "https://localhost:8080/"
        },
        "id": "dALhhAr_5agu",
        "outputId": "09dfadf5-42e8-401f-c6f7-de85fb1aaab5"
      }
    },
    {
      "cell_type": "markdown",
      "source": [
        "### 1. Cài đặt BatchNorm"
      ],
      "metadata": {
        "id": "Doqa-Juc4rls"
      }
    },
    {
      "cell_type": "code",
      "execution_count": 2,
      "source": [
        "def compare_bn(bn1, bn2):\n",
        "    err = False\n",
        "    if not torch.allclose(bn1.running_mean, bn2.running_mean):\n",
        "        print('Diff in running_mean: {} vs {}'.format(\n",
        "            bn1.running_mean, bn2.running_mean))\n",
        "        err = True\n",
        "\n",
        "    if not torch.allclose(bn1.running_var, bn2.running_var):\n",
        "        print('Diff in running_var: {} vs {}'.format(\n",
        "            bn1.running_var, bn2.running_var))\n",
        "        err = True\n",
        "\n",
        "    if bn1.affine and bn2.affine:\n",
        "        if not torch.allclose(bn1.weight, bn2.weight):\n",
        "            print('Diff in weight: {} vs {}'.format(\n",
        "                bn1.weight, bn2.weight))\n",
        "            err = True\n",
        "\n",
        "        if not torch.allclose(bn1.bias, bn2.bias):\n",
        "            print('Diff in bias: {} vs {}'.format(\n",
        "                bn1.bias, bn2.bias))\n",
        "            err = True\n",
        "\n",
        "    if not err:\n",
        "        print('All parameters are equal!')\n",
        "\n",
        "\n",
        "class MyBatchNorm2d(nn.BatchNorm2d):\n",
        "    def __init__(self, num_features, eps=1e-5, momentum=0.1,\n",
        "                 affine=True, track_running_stats=True):\n",
        "        super(MyBatchNorm2d, self).__init__(\n",
        "            num_features, eps, momentum, affine, track_running_stats)\n",
        "\n",
        "    def forward(self, input):\n",
        "        self._check_input_dim(input)\n",
        "\n",
        "        exponential_average_factor = 0.0\n",
        "\n",
        "        if self.training and self.track_running_stats:\n",
        "            if self.num_batches_tracked is not None:\n",
        "                self.num_batches_tracked += 1\n",
        "                if self.momentum is None:  # use cumulative moving average\n",
        "                    exponential_average_factor = 1.0 / float(self.num_batches_tracked)\n",
        "                else:  # use exponential moving average\n",
        "                    exponential_average_factor = self.momentum\n",
        "\n",
        "        # calculate running estimates\n",
        "        if self.training:\n",
        "            mean = input.mean([0, 2, 3])\n",
        "            # use biased var in train\n",
        "            var = input.var([0, 2, 3], unbiased=False)\n",
        "            n = input.numel() / input.size(1)\n",
        "            with torch.no_grad():\n",
        "                self.running_mean = exponential_average_factor * mean\\\n",
        "                    + (1 - exponential_average_factor) * self.running_mean\n",
        "                # update running_var with unbiased var\n",
        "                self.running_var = exponential_average_factor * var * n / (n - 1)\\\n",
        "                    + (1 - exponential_average_factor) * self.running_var\n",
        "        else:\n",
        "            mean = self.running_mean\n",
        "            var = self.running_var\n",
        "\n",
        "        # Chuẩn hoá input\n",
        "        ######################\n",
        "        ### YOUR CODE HERE ###\n",
        "        ######################\n",
        "        if self.affine:\n",
        "            # Biến đổi input sau khi chuẩn hoá\n",
        "            ######################\n",
        "            ### YOUR CODE HERE ###\n",
        "            ######################\n",
        "\n",
        "        return input\n",
        "\n",
        "\n",
        "# Init BatchNorm layers\n",
        "my_bn = MyBatchNorm2d(3, affine=True)\n",
        "bn = nn.BatchNorm2d(3, affine=True)\n",
        "\n",
        "compare_bn(my_bn, bn)  # weight and bias should be different\n",
        "# Load weight and bias\n",
        "my_bn.load_state_dict(bn.state_dict())\n",
        "compare_bn(my_bn, bn)\n",
        "\n",
        "# Run train\n",
        "for _ in range(10):\n",
        "    scale = torch.randint(1, 10, (1,)).float()\n",
        "    bias = torch.randint(-10, 10, (1,)).float()\n",
        "    x = torch.randn(10, 3, 100, 100) * scale + bias\n",
        "    out1 = my_bn(x)\n",
        "    out2 = bn(x)\n",
        "    compare_bn(my_bn, bn)\n",
        "\n",
        "    torch.allclose(out1, out2)\n",
        "    print('Max diff: ', (out1 - out2).abs().max())\n",
        "\n",
        "# Run eval\n",
        "my_bn.eval()\n",
        "bn.eval()\n",
        "for _ in range(10):\n",
        "    scale = torch.randint(1, 10, (1,)).float()\n",
        "    bias = torch.randint(-10, 10, (1,)).float()\n",
        "    x = torch.randn(10, 3, 100, 100) * scale + bias\n",
        "    out1 = my_bn(x)\n",
        "    out2 = bn(x)\n",
        "    compare_bn(my_bn, bn)\n",
        "\n",
        "    torch.allclose(out1, out2)"
      ],
      "outputs": [
        {
          "output_type": "stream",
          "name": "stdout",
          "text": [
            "All parameters are equal!\n",
            "All parameters are equal!\n",
            "All parameters are equal!\n",
            "Max diff:  tensor(4.7684e-07, grad_fn=<MaxBackward1>)\n",
            "All parameters are equal!\n",
            "Max diff:  tensor(4.7684e-07, grad_fn=<MaxBackward1>)\n",
            "All parameters are equal!\n",
            "Max diff:  tensor(4.7684e-07, grad_fn=<MaxBackward1>)\n",
            "All parameters are equal!\n",
            "Max diff:  tensor(4.7684e-07, grad_fn=<MaxBackward1>)\n",
            "All parameters are equal!\n",
            "Max diff:  tensor(4.7684e-07, grad_fn=<MaxBackward1>)\n",
            "All parameters are equal!\n",
            "Max diff:  tensor(4.7684e-07, grad_fn=<MaxBackward1>)\n",
            "All parameters are equal!\n",
            "Max diff:  tensor(4.7684e-07, grad_fn=<MaxBackward1>)\n",
            "All parameters are equal!\n",
            "Max diff:  tensor(4.7684e-07, grad_fn=<MaxBackward1>)\n",
            "All parameters are equal!\n",
            "Max diff:  tensor(4.7684e-07, grad_fn=<MaxBackward1>)\n",
            "All parameters are equal!\n",
            "Max diff:  tensor(4.7684e-07, grad_fn=<MaxBackward1>)\n",
            "All parameters are equal!\n",
            "All parameters are equal!\n",
            "All parameters are equal!\n",
            "All parameters are equal!\n",
            "All parameters are equal!\n",
            "All parameters are equal!\n",
            "All parameters are equal!\n",
            "All parameters are equal!\n",
            "All parameters are equal!\n",
            "All parameters are equal!\n"
          ]
        }
      ],
      "metadata": {
        "id": "1PdGnjmyOM47",
        "colab": {
          "base_uri": "https://localhost:8080/"
        },
        "outputId": "10ff4dae-32dd-4469-d6c7-d0b24027832d"
      }
    },
    {
      "cell_type": "markdown",
      "source": [
        "### 2. Cài đặt chiến lược thay đổi tốc độ học: Warm-up + Cosine Annealing LR"
      ],
      "metadata": {
        "id": "njZw8LOwCrsg"
      }
    },
    {
      "cell_type": "code",
      "execution_count": 3,
      "source": [
        "def load_data(data_dir=\"./data\"):\n",
        "    transform = transforms.Compose([\n",
        "        transforms.ToTensor(),                            \n",
        "        transforms.Normalize((0.5, 0.5, 0.5), (0.5, 0.5, 0.5)),\n",
        "    ])\n",
        "\n",
        "    trainset = torchvision.datasets.CIFAR10(\n",
        "        root=data_dir, train=True, download=True, transform=transform)\n",
        "\n",
        "    testset = torchvision.datasets.CIFAR10(\n",
        "        root=data_dir, train=False, download=True, transform=transform)\n",
        "\n",
        "    return trainset, testset\n",
        "\n",
        "class Net(nn.Module):\n",
        "    def __init__(self, l1=120, l2=84):\n",
        "        super(Net, self).__init__()\n",
        "        self.conv1 = nn.Conv2d(3, 6, 5)\n",
        "        self.pool = nn.MaxPool2d(2, 2)\n",
        "        self.conv2 = nn.Conv2d(6, 16, 5)\n",
        "        self.fc1 = nn.Linear(16 * 5 * 5, l1)\n",
        "        self.fc2 = nn.Linear(l1, l2)\n",
        "        self.fc3 = nn.Linear(l2, 10)\n",
        "        self.softmax = nn.Softmax()\n",
        "\n",
        "    def forward(self, x):\n",
        "        x = self.pool(F.relu(self.conv1(x)))\n",
        "        x = self.pool(F.relu(self.conv2(x)))\n",
        "        x = x.view(-1, 16 * 5 * 5)\n",
        "        x = F.relu(self.fc1(x))\n",
        "        x = F.relu(self.fc2(x))\n",
        "        x = self.fc3(x)\n",
        "        x = self.softmax(x)\n",
        "\n",
        "        return x"
      ],
      "outputs": [],
      "metadata": {
        "id": "ptNpnOaYCuK6"
      }
    },
    {
      "cell_type": "code",
      "execution_count": 4,
      "source": [
        "trainset, testset = load_data('./data')\n",
        "trainloader = torch.utils.data.DataLoader(\n",
        "    trainset,\n",
        "    batch_size=128,\n",
        "    shuffle=True,\n",
        ")\n",
        "\n",
        "epochs = 50\n",
        "warm_epoch = 5\n",
        "init_lr = 1e-1\n",
        "last_lr = 1e-5\n",
        "T_max = epochs\n",
        "T_cur = 0\n",
        "lr_list = [0]\n",
        "\n",
        "net = Net()\n",
        "device = \"cpu\"\n",
        "if torch.cuda.is_available():\n",
        "    device = \"cuda:0\"\n",
        "    if torch.cuda.device_count() > 1:\n",
        "        net = nn.DataParallel(net)\n",
        "net.to(device)\n",
        "\n",
        "criterion = nn.CrossEntropyLoss()\n",
        "optimizer = optim.SGD(net.parameters(), lr=init_lr, momentum=0.9)"
      ],
      "outputs": [
        {
          "output_type": "stream",
          "name": "stdout",
          "text": [
            "Downloading https://www.cs.toronto.edu/~kriz/cifar-10-python.tar.gz to ./data/cifar-10-python.tar.gz\n"
          ]
        },
        {
          "output_type": "display_data",
          "data": {
            "application/vnd.jupyter.widget-view+json": {
              "model_id": "16e8f25ba3b6475c8f1b2a36f5f580cc",
              "version_minor": 0,
              "version_major": 2
            },
            "text/plain": [
              "  0%|          | 0/170498071 [00:00<?, ?it/s]"
            ]
          },
          "metadata": {}
        },
        {
          "output_type": "stream",
          "name": "stdout",
          "text": [
            "Extracting ./data/cifar-10-python.tar.gz to ./data\n",
            "Files already downloaded and verified\n"
          ]
        }
      ],
      "metadata": {
        "id": "mS4soUx9iwvh",
        "colab": {
          "base_uri": "https://localhost:8080/",
          "height": 100,
          "referenced_widgets": [
            "16e8f25ba3b6475c8f1b2a36f5f580cc",
            "a4297f2bdaf34c08bc25e89298cd799e",
            "de6a3ccbf4fc4b24b970b266fed607ec",
            "e26f0fbdac314a6980414580f394d5cc",
            "a2823edbab364addbc5b7711bda916f3",
            "d67037174e49400886068597e526092a",
            "b4e17205b1654eb4b285472f0dd96d24",
            "1a1b63b14568411aaa96f054ac68b7c9",
            "e1dad15dc96b4795b4f2d4e807d08898",
            "830d16ddfce34cefb7efe6d1582b3204",
            "156da9aeaf484a28a1313fb1289d9678"
          ]
        },
        "outputId": "df99f9d0-6f24-42c1-e8cd-7f95dd4215af"
      }
    },
    {
      "cell_type": "code",
      "execution_count": 5,
      "source": [
        "for epoch in range(1, epochs+1):  # loop over the dataset multiple times\n",
        "    running_loss = 0.0\n",
        "    epoch_steps = 0\n",
        "    T_cur += 1\n",
        "    \n",
        "    # warm-up and cosine annealing lr\n",
        "\n",
        "    ######################\n",
        "    ### YOUR CODE HERE ###\n",
        "    ######################\n",
        "   \n",
        "    for i, data in enumerate(trainloader, 0):\n",
        "        # get the inputs; data is a list of [inputs, labels]\n",
        "        inputs, labels = data\n",
        "        inputs, labels = inputs.to(device), labels.to(device)\n",
        "\n",
        "        # zero the parameter gradients\n",
        "        optimizer.zero_grad()\n",
        "\n",
        "        # forward + backward + optimize\n",
        "        outputs = net(inputs)\n",
        "        loss = criterion(outputs, labels)\n",
        "        loss.backward()\n",
        "        optimizer.step()\n",
        "\n",
        "        # print statistics\n",
        "        running_loss += loss.item()\n",
        "        epoch_steps += 1\n",
        "        if i + 1 == len(trainloader):\n",
        "            print(\"[Epoch %d] loss: %.3f\" % (epoch, running_loss / epoch_steps))\n",
        "            running_loss = 0.0\n",
        "            \n",
        "    lr_list.append(optimizer.param_groups[0]['lr'])\n",
        "\n",
        "print(\"Finished Training\")"
      ],
      "outputs": [
        {
          "output_type": "stream",
          "name": "stderr",
          "text": [
            "/usr/local/lib/python3.7/dist-packages/torch/nn/functional.py:718: UserWarning: Named tensors and all their associated APIs are an experimental feature and subject to change. Please do not use them for anything important until they are released as stable. (Triggered internally at  /pytorch/c10/core/TensorImpl.h:1156.)\n",
            "  return torch.max_pool2d(input, kernel_size, stride, padding, dilation, ceil_mode)\n",
            "/usr/local/lib/python3.7/dist-packages/ipykernel_launcher.py:33: UserWarning: Implicit dimension choice for softmax has been deprecated. Change the call to include dim=X as an argument.\n"
          ]
        },
        {
          "output_type": "stream",
          "name": "stdout",
          "text": [
            "[Epoch 1] loss: 2.302\n",
            "[Epoch 2] loss: 2.199\n",
            "[Epoch 3] loss: 2.104\n",
            "[Epoch 4] loss: 2.066\n",
            "[Epoch 5] loss: 2.245\n",
            "[Epoch 6] loss: 2.357\n",
            "[Epoch 7] loss: 2.360\n",
            "[Epoch 8] loss: 2.350\n",
            "[Epoch 9] loss: 2.343\n",
            "[Epoch 10] loss: 2.361\n",
            "[Epoch 11] loss: 2.361\n",
            "[Epoch 12] loss: 2.361\n",
            "[Epoch 13] loss: 2.361\n",
            "[Epoch 14] loss: 2.361\n",
            "[Epoch 15] loss: 2.361\n",
            "[Epoch 16] loss: 2.361\n",
            "[Epoch 17] loss: 2.361\n",
            "[Epoch 18] loss: 2.361\n",
            "[Epoch 19] loss: 2.361\n",
            "[Epoch 20] loss: 2.361\n",
            "[Epoch 21] loss: 2.361\n",
            "[Epoch 22] loss: 2.361\n",
            "[Epoch 23] loss: 2.361\n",
            "[Epoch 24] loss: 2.361\n",
            "[Epoch 25] loss: 2.361\n",
            "[Epoch 26] loss: 2.361\n",
            "[Epoch 27] loss: 2.361\n",
            "[Epoch 28] loss: 2.361\n",
            "[Epoch 29] loss: 2.361\n",
            "[Epoch 30] loss: 2.361\n",
            "[Epoch 31] loss: 2.361\n",
            "[Epoch 32] loss: 2.361\n",
            "[Epoch 33] loss: 2.361\n",
            "[Epoch 34] loss: 2.361\n",
            "[Epoch 35] loss: 2.361\n",
            "[Epoch 36] loss: 2.361\n",
            "[Epoch 37] loss: 2.361\n",
            "[Epoch 38] loss: 2.361\n",
            "[Epoch 39] loss: 2.361\n",
            "[Epoch 40] loss: 2.361\n",
            "[Epoch 41] loss: 2.361\n",
            "[Epoch 42] loss: 2.361\n",
            "[Epoch 43] loss: 2.361\n",
            "[Epoch 44] loss: 2.361\n",
            "[Epoch 45] loss: 2.361\n",
            "[Epoch 46] loss: 2.361\n",
            "[Epoch 47] loss: 2.361\n",
            "[Epoch 48] loss: 2.361\n",
            "[Epoch 49] loss: 2.361\n",
            "[Epoch 50] loss: 2.361\n",
            "Finished Training\n"
          ]
        }
      ],
      "metadata": {
        "id": "ubn7Gcqg0tAC",
        "colab": {
          "base_uri": "https://localhost:8080/"
        },
        "outputId": "747cc6c0-4e89-49b2-ee01-eeca79326af9"
      }
    },
    {
      "cell_type": "code",
      "execution_count": 6,
      "source": [
        "plt.figure(figsize=(12, 6))\n",
        "plt.plot(list(range(len(lr_list))), lr_list, label=\"lr\")\n",
        "plt.xlabel(\"Epoch\", fontsize=14)\n",
        "plt.ylabel(\"Learning rate\", fontsize=14)\n",
        "plt.show()"
      ],
      "outputs": [
        {
          "output_type": "display_data",
          "data": {
            "image/png": "[encoded data removed]",
            "text/plain": [
              "<Figure size 864x432 with 1 Axes>"
            ]
          },
          "metadata": {
            "needs_background": "light"
          }
        }
      ],
      "metadata": {
        "colab": {
          "base_uri": "https://localhost:8080/",
          "height": 392
        },
        "id": "8T-wth2107T6",
        "outputId": "d025bd48-6fe4-4c3b-b497-1575619c94f8"
      }
    },
    {
      "cell_type": "markdown",
      "source": [
        "### 3. Tuning siêu tham số"
      ],
      "metadata": {
        "id": "lumzKlKrCuj5"
      }
    },
    {
      "cell_type": "markdown",
      "source": [
        "Cài đặt thư viện ray"
      ],
      "metadata": {}
    },
    {
      "cell_type": "code",
      "execution_count": 7,
      "source": [
        "!pip install ray"
      ],
      "outputs": [
        {
          "output_type": "stream",
          "name": "stdout",
          "text": [
            "Collecting ray\n",
            "  Downloading ray-1.6.0-cp37-cp37m-manylinux2014_x86_64.whl (49.6 MB)\n",
            "\u001b[K     |████████████████████████████████| 49.6 MB 6.2 kB/s \n",
            "\u001b[?25hRequirement already satisfied: protobuf>=3.15.3 in /usr/local/lib/python3.7/dist-packages (from ray) (3.17.3)\n",
            "Requirement already satisfied: numpy>=1.16 in /usr/local/lib/python3.7/dist-packages (from ray) (1.19.5)\n",
            "Requirement already satisfied: filelock in /usr/local/lib/python3.7/dist-packages (from ray) (3.0.12)\n",
            "Requirement already satisfied: pyyaml in /usr/local/lib/python3.7/dist-packages (from ray) (3.13)\n",
            "Requirement already satisfied: msgpack<2.0.0,>=1.0.0 in /usr/local/lib/python3.7/dist-packages (from ray) (1.0.2)\n",
            "Requirement already satisfied: grpcio>=1.28.1 in /usr/local/lib/python3.7/dist-packages (from ray) (1.39.0)\n",
            "Requirement already satisfied: click>=7.0 in /usr/local/lib/python3.7/dist-packages (from ray) (7.1.2)\n",
            "Collecting redis>=3.5.0\n",
            "  Downloading redis-3.5.3-py2.py3-none-any.whl (72 kB)\n",
            "\u001b[K     |████████████████████████████████| 72 kB 565 kB/s \n",
            "\u001b[?25hRequirement already satisfied: attrs in /usr/local/lib/python3.7/dist-packages (from ray) (21.2.0)\n",
            "Requirement already satisfied: six>=1.5.2 in /usr/local/lib/python3.7/dist-packages (from grpcio>=1.28.1->ray) (1.15.0)\n",
            "Installing collected packages: redis, ray\n",
            "Successfully installed ray-1.6.0 redis-3.5.3\n"
          ]
        }
      ],
      "metadata": {
        "colab": {
          "base_uri": "https://localhost:8080/"
        },
        "id": "m_SIswTeFf8s",
        "outputId": "46f6c93b-378c-4a01-9a5c-0e913cea257b"
      }
    },
    {
      "cell_type": "code",
      "execution_count": 8,
      "source": [
        "import os\n",
        "from ray.tune import CLIReporter\n",
        "from ray import tune\n",
        "from torch.utils.data import random_split\n",
        "from functools import partial"
      ],
      "outputs": [],
      "metadata": {
        "id": "-eA-AZqOJc21"
      }
    },
    {
      "cell_type": "markdown",
      "source": [
        "Viết hàm huấn luyện mô hình nơ-ron trên tập CIFAR10"
      ],
      "metadata": {}
    },
    {
      "cell_type": "code",
      "execution_count": 9,
      "source": [
        "def train_cifar(config, checkpoint_dir=None, data_dir=None):\n",
        "    net = Net(config[\"l1\"], config[\"l2\"])\n",
        "\n",
        "    device = \"cpu\"\n",
        "    if torch.cuda.is_available():\n",
        "        device = \"cuda:0\"\n",
        "        if torch.cuda.device_count() > 1:\n",
        "            net = nn.DataParallel(net)\n",
        "    net.to(device)\n",
        "\n",
        "    criterion = nn.CrossEntropyLoss()\n",
        "    optimizer = optim.SGD(net.parameters(), lr=config[\"lr\"], momentum=0.9)\n",
        "\n",
        "    if checkpoint_dir:\n",
        "        model_state, optimizer_state = torch.load(\n",
        "            os.path.join(checkpoint_dir, \"checkpoint\"))\n",
        "        net.load_state_dict(model_state)\n",
        "        optimizer.load_state_dict(optimizer_state)\n",
        "\n",
        "    trainset, testset = load_data(data_dir)\n",
        "\n",
        "    test_abs = int(len(trainset) * 0.8)\n",
        "    train_subset, val_subset = random_split(\n",
        "        trainset, [test_abs, len(trainset) - test_abs])\n",
        "\n",
        "    trainloader = torch.utils.data.DataLoader(\n",
        "        train_subset,\n",
        "        batch_size=int(config[\"batch_size\"]),\n",
        "        shuffle=True,\n",
        "        num_workers=8)\n",
        "    valloader = torch.utils.data.DataLoader(\n",
        "        val_subset,\n",
        "        batch_size=int(config[\"batch_size\"]),\n",
        "        shuffle=True,\n",
        "        num_workers=8)\n",
        "\n",
        "    for epoch in range(5):  # loop over the dataset multiple times\n",
        "        running_loss = 0.0\n",
        "        epoch_steps = 0\n",
        "        for i, data in enumerate(trainloader, 0):\n",
        "            # get the inputs; data is a list of [inputs, labels]\n",
        "            inputs, labels = data\n",
        "            inputs, labels = inputs.to(device), labels.to(device)\n",
        "\n",
        "            # zero the parameter gradients\n",
        "            optimizer.zero_grad()\n",
        "\n",
        "            # forward + backward + optimize\n",
        "            outputs = net(inputs)\n",
        "            loss = criterion(outputs, labels)\n",
        "            loss.backward()\n",
        "            optimizer.step()\n",
        "\n",
        "            # print statistics\n",
        "            running_loss += loss.item()\n",
        "            epoch_steps += 1\n",
        "            if i % 2000 == 1999:  # print every 2000 mini-batches\n",
        "                print(\"[%d, %5d] loss: %.3f\" % (epoch + 1, i + 1,\n",
        "                                                running_loss / epoch_steps))\n",
        "                running_loss = 0.0\n",
        "\n",
        "        # Validation loss\n",
        "        val_loss = 0.0\n",
        "        val_steps = 0\n",
        "        total = 0\n",
        "        correct = 0\n",
        "        for i, data in enumerate(valloader, 0):\n",
        "            with torch.no_grad():\n",
        "                inputs, labels = data\n",
        "                inputs, labels = inputs.to(device), labels.to(device)\n",
        "\n",
        "                outputs = net(inputs)\n",
        "                _, predicted = torch.max(outputs.data, 1)\n",
        "                total += labels.size(0)\n",
        "                correct += (predicted == labels).sum().item()\n",
        "\n",
        "                loss = criterion(outputs, labels)\n",
        "                val_loss += loss.cpu().numpy()\n",
        "                val_steps += 1\n",
        "\n",
        "        with tune.checkpoint_dir(epoch) as checkpoint_dir:\n",
        "            path = os.path.join(checkpoint_dir, \"checkpoint\")\n",
        "            torch.save((net.state_dict(), optimizer.state_dict()), path)\n",
        "            print(\"*\"*10, path, \"*\"*10)\n",
        "\n",
        "        tune.report(loss=(val_loss / val_steps), accuracy=correct / total)\n",
        "    print(\"Finished Training\")"
      ],
      "outputs": [],
      "metadata": {
        "id": "rwIo-TBJHRHT"
      }
    },
    {
      "cell_type": "markdown",
      "source": [
        "Lựa chọn siêu tham số tốt (hyperparameter tuning): l1 nhận giá trị 32 hoặc 64, l2 nhận giá trị 32 hoặc 64, lr bằng 1e-4 hoặc 1e-2, batchsize cố định 16"
      ],
      "metadata": {}
    },
    {
      "cell_type": "code",
      "execution_count": null,
      "source": [
        "def main(num_samples=10, gpus_per_trial=2):\n",
        "    data_dir = os.path.abspath(\"./data\")\n",
        "\n",
        "    # Liệt kê các giá trị của các siêu tham số cần tìm kiếm\n",
        "    ######################\n",
        "    ### YOUR CODE HERE ###\n",
        "    ######################\n",
        "\n",
        "    reporter = CLIReporter(\n",
        "        metric_columns=[\"loss\", \"accuracy\", \"training_iteration\"])\n",
        "    result = tune.run(\n",
        "        partial(train_cifar, data_dir=data_dir),\n",
        "        resources_per_trial={\"cpu\": 2, \"gpu\": gpus_per_trial},\n",
        "        config=config,\n",
        "        num_samples=num_samples,\n",
        "        progress_reporter=reporter)\n",
        "\n",
        "main(num_samples=10, gpus_per_trial=1)"
      ],
      "outputs": [
        {
          "output_type": "stream",
          "name": "stderr",
          "text": [
            "/usr/local/lib/python3.7/dist-packages/ray/_private/services.py:238: UserWarning: Not all Ray Dashboard dependencies were found. To use the dashboard please install Ray using `pip install ray[default]`. To disable this message, set RAY_DISABLE_IMPORT_WARNING env var to '1'.\n",
            "  warnings.warn(warning_message)\n",
            "2021-09-10 08:58:41,056\tWARNING experiment.py:296 -- No name detected on trainable. Using DEFAULT.\n",
            "2021-09-10 08:58:41,058\tINFO registry.py:67 -- Detected unknown callable for trainable. Converting to class.\n",
            "2021-09-10 08:58:41,115\tINFO logger.py:597 -- pip install 'ray[tune]' to see TensorBoard files.\n",
            "2021-09-10 08:58:41,117\tWARNING callback.py:117 -- The TensorboardX logger cannot be instantiated because either TensorboardX or one of it's dependencies is not installed. Please make sure you have the latest version of TensorboardX installed: `pip install -U tensorboardx`\n"
          ]
        },
        {
          "output_type": "stream",
          "name": "stdout",
          "text": [
            "== Status ==\n",
            "Memory usage on this node: 2.1/12.7 GiB\n",
            "Using FIFO scheduling algorithm.\n",
            "Resources requested: 2.0/2 CPUs, 1.0/1 GPUs, 0.0/7.32 GiB heap, 0.0/3.66 GiB objects (0.0/1.0 accelerator_type:K80)\n",
            "Result logdir: /root/ray_results/DEFAULT_2021-09-10_08-58-41\n",
            "Number of trials: 16/80 (15 PENDING, 1 RUNNING)\n",
            "+---------------------+----------+-------+--------------+------+------+--------+\n",
            "| Trial name          | status   | loc   |   batch_size |   l1 |   l2 |     lr |\n",
            "|---------------------+----------+-------+--------------+------+------+--------|\n",
            "| DEFAULT_4b73f_00000 | RUNNING  |       |           16 |   32 |   16 | 0.0001 |\n",
            "| DEFAULT_4b73f_00001 | PENDING  |       |           16 |   64 |   16 | 0.0001 |\n",
            "| DEFAULT_4b73f_00002 | PENDING  |       |           16 |   32 |   32 | 0.0001 |\n",
            "| DEFAULT_4b73f_00003 | PENDING  |       |           16 |   64 |   32 | 0.0001 |\n",
            "| DEFAULT_4b73f_00004 | PENDING  |       |           16 |   32 |   16 | 0.01   |\n",
            "| DEFAULT_4b73f_00005 | PENDING  |       |           16 |   64 |   16 | 0.01   |\n",
            "| DEFAULT_4b73f_00006 | PENDING  |       |           16 |   32 |   32 | 0.01   |\n",
            "| DEFAULT_4b73f_00007 | PENDING  |       |           16 |   64 |   32 | 0.01   |\n",
            "| DEFAULT_4b73f_00008 | PENDING  |       |           16 |   32 |   16 | 0.0001 |\n",
            "| DEFAULT_4b73f_00009 | PENDING  |       |           16 |   64 |   16 | 0.0001 |\n",
            "| DEFAULT_4b73f_00010 | PENDING  |       |           16 |   32 |   32 | 0.0001 |\n",
            "| DEFAULT_4b73f_00011 | PENDING  |       |           16 |   64 |   32 | 0.0001 |\n",
            "| DEFAULT_4b73f_00012 | PENDING  |       |           16 |   32 |   16 | 0.01   |\n",
            "| DEFAULT_4b73f_00013 | PENDING  |       |           16 |   64 |   16 | 0.01   |\n",
            "| DEFAULT_4b73f_00014 | PENDING  |       |           16 |   32 |   32 | 0.01   |\n",
            "| DEFAULT_4b73f_00015 | PENDING  |       |           16 |   64 |   32 | 0.01   |\n",
            "+---------------------+----------+-------+--------------+------+------+--------+\n",
            "\n",
            "\n",
            "\u001b[2m\u001b[36m(pid=351)\u001b[0m Files already downloaded and verified\n",
            "\u001b[2m\u001b[36m(pid=351)\u001b[0m Files already downloaded and verified\n",
            "== Status ==\n",
            "Memory usage on this node: 3.1/12.7 GiB\n",
            "Using FIFO scheduling algorithm.\n",
            "Resources requested: 2.0/2 CPUs, 1.0/1 GPUs, 0.0/7.32 GiB heap, 0.0/3.66 GiB objects (0.0/1.0 accelerator_type:K80)\n",
            "Result logdir: /root/ray_results/DEFAULT_2021-09-10_08-58-41\n",
            "Number of trials: 17/80 (16 PENDING, 1 RUNNING)\n",
            "+---------------------+----------+-------+--------------+------+------+--------+\n",
            "| Trial name          | status   | loc   |   batch_size |   l1 |   l2 |     lr |\n",
            "|---------------------+----------+-------+--------------+------+------+--------|\n",
            "| DEFAULT_4b73f_00000 | RUNNING  |       |           16 |   32 |   16 | 0.0001 |\n",
            "| DEFAULT_4b73f_00001 | PENDING  |       |           16 |   64 |   16 | 0.0001 |\n",
            "| DEFAULT_4b73f_00002 | PENDING  |       |           16 |   32 |   32 | 0.0001 |\n",
            "| DEFAULT_4b73f_00003 | PENDING  |       |           16 |   64 |   32 | 0.0001 |\n",
            "| DEFAULT_4b73f_00004 | PENDING  |       |           16 |   32 |   16 | 0.01   |\n",
            "| DEFAULT_4b73f_00005 | PENDING  |       |           16 |   64 |   16 | 0.01   |\n",
            "| DEFAULT_4b73f_00006 | PENDING  |       |           16 |   32 |   32 | 0.01   |\n",
            "| DEFAULT_4b73f_00007 | PENDING  |       |           16 |   64 |   32 | 0.01   |\n",
            "| DEFAULT_4b73f_00008 | PENDING  |       |           16 |   32 |   16 | 0.0001 |\n",
            "| DEFAULT_4b73f_00009 | PENDING  |       |           16 |   64 |   16 | 0.0001 |\n",
            "| DEFAULT_4b73f_00010 | PENDING  |       |           16 |   32 |   32 | 0.0001 |\n",
            "| DEFAULT_4b73f_00011 | PENDING  |       |           16 |   64 |   32 | 0.0001 |\n",
            "| DEFAULT_4b73f_00012 | PENDING  |       |           16 |   32 |   16 | 0.01   |\n",
            "| DEFAULT_4b73f_00013 | PENDING  |       |           16 |   64 |   16 | 0.01   |\n",
            "| DEFAULT_4b73f_00014 | PENDING  |       |           16 |   32 |   32 | 0.01   |\n",
            "| DEFAULT_4b73f_00015 | PENDING  |       |           16 |   64 |   32 | 0.01   |\n",
            "| DEFAULT_4b73f_00016 | PENDING  |       |           16 |   32 |   16 | 0.0001 |\n",
            "+---------------------+----------+-------+--------------+------+------+--------+\n",
            "\n",
            "\n"
          ]
        },
        {
          "output_type": "stream",
          "name": "stderr",
          "text": [
            "\u001b[2m\u001b[36m(pid=351)\u001b[0m /usr/local/lib/python3.7/dist-packages/torch/utils/data/dataloader.py:481: UserWarning: This DataLoader will create 8 worker processes in total. Our suggested max number of worker in current system is 2, which is smaller than what this DataLoader is going to create. Please be aware that excessive worker creation might get DataLoader running slow or even freeze, lower the worker number to avoid potential slowness/freeze if necessary.\n",
            "\u001b[2m\u001b[36m(pid=351)\u001b[0m   cpuset_checked))\n",
            "\u001b[2m\u001b[36m(pid=351)\u001b[0m /usr/local/lib/python3.7/dist-packages/torch/nn/functional.py:718: UserWarning: Named tensors and all their associated APIs are an experimental feature and subject to change. Please do not use them for anything important until they are released as stable. (Triggered internally at  /pytorch/c10/core/TensorImpl.h:1156.)\n",
            "\u001b[2m\u001b[36m(pid=351)\u001b[0m   return torch.max_pool2d(input, kernel_size, stride, padding, dilation, ceil_mode)\n",
            "\u001b[2m\u001b[36m(pid=351)\u001b[0m /usr/local/lib/python3.7/dist-packages/ray/workers/default_worker.py:33: UserWarning: Implicit dimension choice for softmax has been deprecated. Change the call to include dim=X as an argument.\n",
            "\u001b[2m\u001b[36m(pid=351)\u001b[0m   type=str,\n"
          ]
        },
        {
          "output_type": "stream",
          "name": "stdout",
          "text": [
            "\u001b[2m\u001b[36m(pid=351)\u001b[0m [1,  2000] loss: 2.303\n",
            "Result for DEFAULT_4b73f_00000:\n",
            "  accuracy: 0.0999\n",
            "  date: 2021-09-10_08-59-13\n",
            "  done: false\n",
            "  experiment_id: a590202bec2f4c1ea826538c56035a9f\n",
            "  hostname: f7aececd2bb3\n",
            "  iterations_since_restore: 1\n",
            "  loss: 2.3026386421203613\n",
            "  node_ip: 172.28.0.2\n",
            "  pid: 351\n",
            "  should_checkpoint: true\n",
            "  time_since_restore: 30.793678045272827\n",
            "  time_this_iter_s: 30.793678045272827\n",
            "  time_total_s: 30.793678045272827\n",
            "  timestamp: 1631264353\n",
            "  timesteps_since_restore: 0\n",
            "  training_iteration: 1\n",
            "  trial_id: 4b73f_00000\n",
            "  \n",
            "== Status ==\n",
            "Memory usage on this node: 3.1/12.7 GiB\n",
            "Using FIFO scheduling algorithm.\n",
            "Resources requested: 2.0/2 CPUs, 1.0/1 GPUs, 0.0/7.32 GiB heap, 0.0/3.66 GiB objects (0.0/1.0 accelerator_type:K80)\n",
            "Result logdir: /root/ray_results/DEFAULT_2021-09-10_08-58-41\n",
            "Number of trials: 17/80 (16 PENDING, 1 RUNNING)\n",
            "+---------------------+----------+----------------+--------------+------+------+--------+---------+------------+----------------------+\n",
            "| Trial name          | status   | loc            |   batch_size |   l1 |   l2 |     lr |    loss |   accuracy |   training_iteration |\n",
            "|---------------------+----------+----------------+--------------+------+------+--------+---------+------------+----------------------|\n",
            "| DEFAULT_4b73f_00000 | RUNNING  | 172.28.0.2:351 |           16 |   32 |   16 | 0.0001 | 2.30264 |     0.0999 |                    1 |\n",
            "| DEFAULT_4b73f_00001 | PENDING  |                |           16 |   64 |   16 | 0.0001 |         |            |                      |\n",
            "| DEFAULT_4b73f_00002 | PENDING  |                |           16 |   32 |   32 | 0.0001 |         |            |                      |\n",
            "| DEFAULT_4b73f_00003 | PENDING  |                |           16 |   64 |   32 | 0.0001 |         |            |                      |\n",
            "| DEFAULT_4b73f_00004 | PENDING  |                |           16 |   32 |   16 | 0.01   |         |            |                      |\n",
            "| DEFAULT_4b73f_00005 | PENDING  |                |           16 |   64 |   16 | 0.01   |         |            |                      |\n",
            "| DEFAULT_4b73f_00006 | PENDING  |                |           16 |   32 |   32 | 0.01   |         |            |                      |\n",
            "| DEFAULT_4b73f_00007 | PENDING  |                |           16 |   64 |   32 | 0.01   |         |            |                      |\n",
            "| DEFAULT_4b73f_00008 | PENDING  |                |           16 |   32 |   16 | 0.0001 |         |            |                      |\n",
            "| DEFAULT_4b73f_00009 | PENDING  |                |           16 |   64 |   16 | 0.0001 |         |            |                      |\n",
            "| DEFAULT_4b73f_00010 | PENDING  |                |           16 |   32 |   32 | 0.0001 |         |            |                      |\n",
            "| DEFAULT_4b73f_00011 | PENDING  |                |           16 |   64 |   32 | 0.0001 |         |            |                      |\n",
            "| DEFAULT_4b73f_00012 | PENDING  |                |           16 |   32 |   16 | 0.01   |         |            |                      |\n",
            "| DEFAULT_4b73f_00013 | PENDING  |                |           16 |   64 |   16 | 0.01   |         |            |                      |\n",
            "| DEFAULT_4b73f_00014 | PENDING  |                |           16 |   32 |   32 | 0.01   |         |            |                      |\n",
            "| DEFAULT_4b73f_00015 | PENDING  |                |           16 |   64 |   32 | 0.01   |         |            |                      |\n",
            "| DEFAULT_4b73f_00016 | PENDING  |                |           16 |   32 |   16 | 0.0001 |         |            |                      |\n",
            "+---------------------+----------+----------------+--------------+------+------+--------+---------+------------+----------------------+\n",
            "\n",
            "\n",
            "\u001b[2m\u001b[36m(pid=351)\u001b[0m ********** /root/ray_results/DEFAULT_2021-09-10_08-58-41/DEFAULT_4b73f_00000_0_batch_size=16,l1=32,l2=16,lr=0.0001_2021-09-10_08-58-41/checkpoint_000000/checkpoint **********\n",
            "\u001b[2m\u001b[36m(pid=351)\u001b[0m [2,  2000] loss: 2.303\n",
            "Result for DEFAULT_4b73f_00000:\n",
            "  accuracy: 0.0999\n",
            "  date: 2021-09-10_08-59-39\n",
            "  done: false\n",
            "  experiment_id: a590202bec2f4c1ea826538c56035a9f\n",
            "  hostname: f7aececd2bb3\n",
            "  iterations_since_restore: 2\n",
            "  loss: 2.3026155532836916\n",
            "  node_ip: 172.28.0.2\n",
            "  pid: 351\n",
            "  should_checkpoint: true\n",
            "  time_since_restore: 57.259856939315796\n",
            "  time_this_iter_s: 26.46617889404297\n",
            "  time_total_s: 57.259856939315796\n",
            "  timestamp: 1631264379\n",
            "  timesteps_since_restore: 0\n",
            "  training_iteration: 2\n",
            "  trial_id: 4b73f_00000\n",
            "  \n",
            "== Status ==\n",
            "Memory usage on this node: 3.1/12.7 GiB\n",
            "Using FIFO scheduling algorithm.\n",
            "Resources requested: 2.0/2 CPUs, 1.0/1 GPUs, 0.0/7.32 GiB heap, 0.0/3.66 GiB objects (0.0/1.0 accelerator_type:K80)\n",
            "Result logdir: /root/ray_results/DEFAULT_2021-09-10_08-58-41\n",
            "Number of trials: 17/80 (16 PENDING, 1 RUNNING)\n",
            "+---------------------+----------+----------------+--------------+------+------+--------+---------+------------+----------------------+\n",
            "| Trial name          | status   | loc            |   batch_size |   l1 |   l2 |     lr |    loss |   accuracy |   training_iteration |\n",
            "|---------------------+----------+----------------+--------------+------+------+--------+---------+------------+----------------------|\n",
            "| DEFAULT_4b73f_00000 | RUNNING  | 172.28.0.2:351 |           16 |   32 |   16 | 0.0001 | 2.30262 |     0.0999 |                    2 |\n",
            "| DEFAULT_4b73f_00001 | PENDING  |                |           16 |   64 |   16 | 0.0001 |         |            |                      |\n",
            "| DEFAULT_4b73f_00002 | PENDING  |                |           16 |   32 |   32 | 0.0001 |         |            |                      |\n",
            "| DEFAULT_4b73f_00003 | PENDING  |                |           16 |   64 |   32 | 0.0001 |         |            |                      |\n",
            "| DEFAULT_4b73f_00004 | PENDING  |                |           16 |   32 |   16 | 0.01   |         |            |                      |\n",
            "| DEFAULT_4b73f_00005 | PENDING  |                |           16 |   64 |   16 | 0.01   |         |            |                      |\n",
            "| DEFAULT_4b73f_00006 | PENDING  |                |           16 |   32 |   32 | 0.01   |         |            |                      |\n",
            "| DEFAULT_4b73f_00007 | PENDING  |                |           16 |   64 |   32 | 0.01   |         |            |                      |\n",
            "| DEFAULT_4b73f_00008 | PENDING  |                |           16 |   32 |   16 | 0.0001 |         |            |                      |\n",
            "| DEFAULT_4b73f_00009 | PENDING  |                |           16 |   64 |   16 | 0.0001 |         |            |                      |\n",
            "| DEFAULT_4b73f_00010 | PENDING  |                |           16 |   32 |   32 | 0.0001 |         |            |                      |\n",
            "| DEFAULT_4b73f_00011 | PENDING  |                |           16 |   64 |   32 | 0.0001 |         |            |                      |\n",
            "| DEFAULT_4b73f_00012 | PENDING  |                |           16 |   32 |   16 | 0.01   |         |            |                      |\n",
            "| DEFAULT_4b73f_00013 | PENDING  |                |           16 |   64 |   16 | 0.01   |         |            |                      |\n",
            "| DEFAULT_4b73f_00014 | PENDING  |                |           16 |   32 |   32 | 0.01   |         |            |                      |\n",
            "| DEFAULT_4b73f_00015 | PENDING  |                |           16 |   64 |   32 | 0.01   |         |            |                      |\n",
            "| DEFAULT_4b73f_00016 | PENDING  |                |           16 |   32 |   16 | 0.0001 |         |            |                      |\n",
            "+---------------------+----------+----------------+--------------+------+------+--------+---------+------------+----------------------+\n",
            "\n",
            "\n",
            "\u001b[2m\u001b[36m(pid=351)\u001b[0m ********** /root/ray_results/DEFAULT_2021-09-10_08-58-41/DEFAULT_4b73f_00000_0_batch_size=16,l1=32,l2=16,lr=0.0001_2021-09-10_08-58-41/checkpoint_000001/checkpoint **********\n"
          ]
        }
      ],
      "metadata": {
        "colab": {
          "base_uri": "https://localhost:8080/"
        },
        "id": "pDyf2Ku1H1ba",
        "outputId": "1eda7809-537b-45f3-8e45-6b161b5bbf6f"
      }
    },
    {
      "cell_type": "markdown",
      "source": [
        "Cài đặt thử viện skorch"
      ],
      "metadata": {}
    },
    {
      "cell_type": "code",
      "execution_count": 1,
      "source": [
        "!pip install skorch\n",
        "import numpy as np\n",
        "from sklearn.datasets import make_classification\n",
        "from torch import nn\n",
        "\n",
        "from skorch import NeuralNetClassifier\n",
        "from sklearn.model_selection import GridSearchCV"
      ],
      "outputs": [
        {
          "output_type": "stream",
          "name": "stdout",
          "text": [
            "Collecting skorch\n",
            "  Downloading skorch-0.10.0-py3-none-any.whl (128 kB)\n",
            "\u001b[?25l\r\u001b[K     |██▌                             | 10 kB 21.2 MB/s eta 0:00:01\r\u001b[K     |█████                           | 20 kB 19.2 MB/s eta 0:00:01\r\u001b[K     |███████▋                        | 30 kB 14.6 MB/s eta 0:00:01\r\u001b[K     |██████████▏                     | 40 kB 13.4 MB/s eta 0:00:01\r\u001b[K     |████████████▊                   | 51 kB 5.4 MB/s eta 0:00:01\r\u001b[K     |███████████████▎                | 61 kB 5.8 MB/s eta 0:00:01\r\u001b[K     |█████████████████▉              | 71 kB 5.3 MB/s eta 0:00:01\r\u001b[K     |████████████████████▍           | 81 kB 6.0 MB/s eta 0:00:01\r\u001b[K     |███████████████████████         | 92 kB 6.3 MB/s eta 0:00:01\r\u001b[K     |█████████████████████████▍      | 102 kB 5.3 MB/s eta 0:00:01\r\u001b[K     |████████████████████████████    | 112 kB 5.3 MB/s eta 0:00:01\r\u001b[K     |██████████████████████████████▌ | 122 kB 5.3 MB/s eta 0:00:01\r\u001b[K     |████████████████████████████████| 128 kB 5.3 MB/s \n",
            "\u001b[?25hRequirement already satisfied: numpy>=1.13.3 in /usr/local/lib/python3.7/dist-packages (from skorch) (1.19.5)\n",
            "Requirement already satisfied: scipy>=1.1.0 in /usr/local/lib/python3.7/dist-packages (from skorch) (1.4.1)\n",
            "Requirement already satisfied: tqdm>=4.14.0 in /usr/local/lib/python3.7/dist-packages (from skorch) (4.62.0)\n",
            "Requirement already satisfied: tabulate>=0.7.7 in /usr/local/lib/python3.7/dist-packages (from skorch) (0.8.9)\n",
            "Requirement already satisfied: scikit-learn>=0.19.1 in /usr/local/lib/python3.7/dist-packages (from skorch) (0.22.2.post1)\n",
            "Requirement already satisfied: joblib>=0.11 in /usr/local/lib/python3.7/dist-packages (from scikit-learn>=0.19.1->skorch) (1.0.1)\n",
            "Installing collected packages: skorch\n",
            "Successfully installed skorch-0.10.0\n"
          ]
        }
      ],
      "metadata": {
        "id": "SVnRxqZpJXwm",
        "colab": {
          "base_uri": "https://localhost:8080/"
        },
        "outputId": "0e156364-8ce7-49c6-83dc-09353ab96117"
      }
    },
    {
      "cell_type": "markdown",
      "source": [
        "Sử dụng thư viện skorch để huấn luyện"
      ],
      "metadata": {}
    },
    {
      "cell_type": "code",
      "execution_count": 6,
      "source": [
        "trainset, testset = load_data('./data')\n",
        "(X, y) = np.asarray(trainset.data[:]), np.asarray(trainset.targets[:])\n",
        "X = X.reshape((-1, 3, 32, 32))\n",
        "X = X.astype(np.float32)\n",
        "y = y.astype(np.int64)\n",
        "\n",
        "net = NeuralNetClassifier(\n",
        "    Net,\n",
        "    max_epochs=5,\n",
        "    lr=0.01,\n",
        "    # Shuffle training data on each epoch\n",
        "    iterator_train__shuffle=True,\n",
        ")\n",
        "\n",
        "# training with default config\n",
        "net.fit(X, y)\n",
        "y_proba = net.predict_proba(X)"
      ],
      "outputs": [
        {
          "output_type": "stream",
          "name": "stdout",
          "text": [
            "Files already downloaded and verified\n",
            "Files already downloaded and verified\n"
          ]
        },
        {
          "output_type": "stream",
          "name": "stderr",
          "text": [
            "/usr/local/lib/python3.7/dist-packages/torch/nn/functional.py:718: UserWarning: Named tensors and all their associated APIs are an experimental feature and subject to change. Please do not use them for anything important until they are released as stable. (Triggered internally at  /pytorch/c10/core/TensorImpl.h:1156.)\n",
            "  return torch.max_pool2d(input, kernel_size, stride, padding, dilation, ceil_mode)\n",
            "/usr/local/lib/python3.7/dist-packages/ipykernel_launcher.py:33: UserWarning: Implicit dimension choice for softmax has been deprecated. Change the call to include dim=X as an argument.\n"
          ]
        },
        {
          "output_type": "stream",
          "name": "stdout",
          "text": [
            "  epoch    train_loss    valid_acc    valid_loss      dur\n",
            "-------  ------------  -----------  ------------  -------\n",
            "      1        \u001b[36m2.1907\u001b[0m       \u001b[32m0.2514\u001b[0m        \u001b[35m2.0782\u001b[0m  10.1372\n",
            "      2        \u001b[36m2.0612\u001b[0m       0.2378        \u001b[35m2.0725\u001b[0m  9.8438\n",
            "      3        \u001b[36m2.0083\u001b[0m       \u001b[32m0.2707\u001b[0m        \u001b[35m1.9760\u001b[0m  9.8169\n",
            "      4        \u001b[36m1.9511\u001b[0m       \u001b[32m0.3011\u001b[0m        \u001b[35m1.9104\u001b[0m  9.8356\n",
            "      5        \u001b[36m1.8987\u001b[0m       \u001b[32m0.3052\u001b[0m        \u001b[35m1.9103\u001b[0m  9.8972\n"
          ]
        }
      ],
      "metadata": {
        "id": "We2jqjXx4tf7",
        "colab": {
          "base_uri": "https://localhost:8080/"
        },
        "outputId": "41355555-ead6-42f5-f093-f67ff0289380"
      }
    },
    {
      "cell_type": "markdown",
      "source": [
        "Dùng skorch để lựa chọn siêu tham số"
      ],
      "metadata": {}
    },
    {
      "cell_type": "code",
      "execution_count": 7,
      "source": [
        "# hyperparameter tuning\n",
        "net.set_params(train_split=False, verbose=0)\n",
        "# Liệt kê các giá trị siêu tham số cần search và dùng hàm gridsearchCV để tìm giá trị tối ưu\n",
        "\n",
        "######################\n",
        "### YOUR CODE HERE ###\n",
        "######################\n",
        "\n",
        "gs.fit(X, y)\n",
        "print(\"best score: {:.3f}, best params: {}\".format(gs.best_score_, gs.best_params_))"
      ],
      "outputs": [
        {
          "output_type": "stream",
          "name": "stdout",
          "text": [
            "Fitting 3 folds for each of 8 candidates, totalling 24 fits\n",
            "[CV] lr=0.0001, module__l1=32, module__l2=16 .........................\n"
          ]
        },
        {
          "output_type": "stream",
          "name": "stderr",
          "text": [
            "[Parallel(n_jobs=1)]: Using backend SequentialBackend with 1 concurrent workers.\n",
            "/usr/local/lib/python3.7/dist-packages/ipykernel_launcher.py:33: UserWarning: Implicit dimension choice for softmax has been deprecated. Change the call to include dim=X as an argument.\n"
          ]
        },
        {
          "output_type": "stream",
          "name": "stdout",
          "text": [
            "[CV] .......... lr=0.0001, module__l1=32, module__l2=16, total=  38.0s\n",
            "[CV] lr=0.0001, module__l1=32, module__l2=16 .........................\n"
          ]
        },
        {
          "output_type": "stream",
          "name": "stderr",
          "text": [
            "[Parallel(n_jobs=1)]: Done   1 out of   1 | elapsed:   38.0s remaining:    0.0s\n"
          ]
        },
        {
          "output_type": "stream",
          "name": "stdout",
          "text": [
            "[CV] .......... lr=0.0001, module__l1=32, module__l2=16, total=  37.9s\n",
            "[CV] lr=0.0001, module__l1=32, module__l2=16 .........................\n",
            "[CV] .......... lr=0.0001, module__l1=32, module__l2=16, total=  37.8s\n",
            "[CV] lr=0.0001, module__l1=32, module__l2=32 .........................\n",
            "[CV] .......... lr=0.0001, module__l1=32, module__l2=32, total=  37.5s\n",
            "[CV] lr=0.0001, module__l1=32, module__l2=32 .........................\n",
            "[CV] .......... lr=0.0001, module__l1=32, module__l2=32, total=  37.6s\n",
            "[CV] lr=0.0001, module__l1=32, module__l2=32 .........................\n",
            "[CV] .......... lr=0.0001, module__l1=32, module__l2=32, total=  37.6s\n",
            "[CV] lr=0.0001, module__l1=64, module__l2=16 .........................\n",
            "[CV] .......... lr=0.0001, module__l1=64, module__l2=16, total=  37.4s\n",
            "[CV] lr=0.0001, module__l1=64, module__l2=16 .........................\n",
            "[CV] .......... lr=0.0001, module__l1=64, module__l2=16, total=  37.9s\n",
            "[CV] lr=0.0001, module__l1=64, module__l2=16 .........................\n",
            "[CV] .......... lr=0.0001, module__l1=64, module__l2=16, total=  38.1s\n",
            "[CV] lr=0.0001, module__l1=64, module__l2=32 .........................\n",
            "[CV] .......... lr=0.0001, module__l1=64, module__l2=32, total=  39.0s\n",
            "[CV] lr=0.0001, module__l1=64, module__l2=32 .........................\n",
            "[CV] .......... lr=0.0001, module__l1=64, module__l2=32, total=  38.5s\n",
            "[CV] lr=0.0001, module__l1=64, module__l2=32 .........................\n",
            "[CV] .......... lr=0.0001, module__l1=64, module__l2=32, total=  37.5s\n",
            "[CV] lr=0.01, module__l1=32, module__l2=16 ...........................\n",
            "[CV] ............ lr=0.01, module__l1=32, module__l2=16, total=  36.1s\n",
            "[CV] lr=0.01, module__l1=32, module__l2=16 ...........................\n",
            "[CV] ............ lr=0.01, module__l1=32, module__l2=16, total=  36.3s\n",
            "[CV] lr=0.01, module__l1=32, module__l2=16 ...........................\n",
            "[CV] ............ lr=0.01, module__l1=32, module__l2=16, total=  36.3s\n",
            "[CV] lr=0.01, module__l1=32, module__l2=32 ...........................\n",
            "[CV] ............ lr=0.01, module__l1=32, module__l2=32, total=  36.8s\n",
            "[CV] lr=0.01, module__l1=32, module__l2=32 ...........................\n",
            "[CV] ............ lr=0.01, module__l1=32, module__l2=32, total=  37.0s\n",
            "[CV] lr=0.01, module__l1=32, module__l2=32 ...........................\n",
            "[CV] ............ lr=0.01, module__l1=32, module__l2=32, total=  36.6s\n",
            "[CV] lr=0.01, module__l1=64, module__l2=16 ...........................\n",
            "[CV] ............ lr=0.01, module__l1=64, module__l2=16, total=  36.9s\n",
            "[CV] lr=0.01, module__l1=64, module__l2=16 ...........................\n",
            "[CV] ............ lr=0.01, module__l1=64, module__l2=16, total=  37.7s\n",
            "[CV] lr=0.01, module__l1=64, module__l2=16 ...........................\n",
            "[CV] ............ lr=0.01, module__l1=64, module__l2=16, total=  38.1s\n",
            "[CV] lr=0.01, module__l1=64, module__l2=32 ...........................\n",
            "[CV] ............ lr=0.01, module__l1=64, module__l2=32, total=  37.5s\n",
            "[CV] lr=0.01, module__l1=64, module__l2=32 ...........................\n",
            "[CV] ............ lr=0.01, module__l1=64, module__l2=32, total=  36.9s\n",
            "[CV] lr=0.01, module__l1=64, module__l2=32 ...........................\n",
            "[CV] ............ lr=0.01, module__l1=64, module__l2=32, total=  37.0s\n",
            "best score: 0.287, best params: {'lr': 0.01, 'module__l1': 32, 'module__l2': 32}\n"
          ]
        },
        {
          "output_type": "stream",
          "name": "stderr",
          "text": [
            "[Parallel(n_jobs=1)]: Done  24 out of  24 | elapsed: 15.0min finished\n"
          ]
        }
      ],
      "metadata": {
        "id": "Y0ixOx3SHd8H",
        "colab": {
          "base_uri": "https://localhost:8080/"
        },
        "outputId": "5e2cd33b-9c86-480e-99ac-5f76982fc7b0"
      }
    }
  ]
}